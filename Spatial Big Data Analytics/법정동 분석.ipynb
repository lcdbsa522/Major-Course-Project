{
 "cells": [
  {
   "cell_type": "code",
   "execution_count": 1,
   "id": "131b88c1",
   "metadata": {},
   "outputs": [],
   "source": [
    "import pandas as pd\n",
    "import numpy as np\n",
    "import matplotlib.pyplot as plt\n",
    "%matplotlib inline\n",
    "import seaborn as sns\n",
    "\n",
    "# 차트에서 한글 출력을 위한 설정\n",
    "from matplotlib import font_manager, rc\n",
    "\n",
    "import platform\n",
    "your_os = platform.system()\n",
    "ttf = \"c:/Windows/Fonts/malgun.ttf\"\n",
    "font_name = font_manager.FontProperties(fname=ttf).get_name()\n",
    "rc('font', family=font_name)"
   ]
  },
  {
   "cell_type": "code",
   "execution_count": 2,
   "id": "5d6fe299",
   "metadata": {
    "scrolled": true
   },
   "outputs": [],
   "source": [
    "df_2010 = pd.read_excel('기말 데이터/홍대상권_음식점_한식양식제과_2010.xlsx').drop_duplicates()\n",
    "df_2023 = pd.read_excel('기말 데이터/홍대상권_음식점_한식양식제과_2023.xlsx').drop_duplicates()\n",
    "\n",
    "df_2023['상권업종_2'] = df_2023['상권업종_2'].apply(lambda x : \n",
    "                                            '제과제빵떡케익' if x == '기타 간이' else ('양식' if x =='서양식' else x))\n",
    "df_2010['법정동명'] = df_2010.ADDRESS.apply(lambda x : x.split(' ')[2])"
   ]
  },
  {
   "cell_type": "code",
   "execution_count": 11,
   "id": "03647c77",
   "metadata": {},
   "outputs": [],
   "source": [
    "df_2010.query(\"UPJONG2_NM=='한식'\").to_csv('기말 데이터/ df_2010_kr.csv', index=False, encoding='cp949')\n",
    "df_2010.query(\"UPJONG2_NM=='양식'\").to_csv('기말 데이터/ df_2010_ws.csv', index=False, encoding='cp949')\n",
    "df_2010.query(\"UPJONG2_NM=='제과제빵떡케익'\").to_csv('기말 데이터/ df_2010_bk.csv', index=False, encoding='cp949')\n",
    "\n",
    "df_2023.query(\"상권업종_2=='한식'\").to_csv('기말 데이터/ df_2023_kr.csv', index=False, encoding='cp949')\n",
    "df_2023.query(\"상권업종_2=='양식'\").to_csv('기말 데이터/ df_2023_ws.csv', index=False, encoding='cp949')\n",
    "df_2023.query(\"상권업종_2=='제과제빵떡케익'\").to_csv('기말 데이터/ df_2023_bk.csv', index=False, encoding='cp949')"
   ]
  },
  {
   "cell_type": "markdown",
   "id": "163738de",
   "metadata": {},
   "source": [
    "# 업종별 생존 매장 분석"
   ]
  },
  {
   "cell_type": "code",
   "execution_count": 15,
   "id": "1f0978cc",
   "metadata": {},
   "outputs": [],
   "source": [
    "한식_2010 = df_2010.loc[df_2010.UPJONG2_NM == '한식']\n",
    "양식_2010 = df_2010.loc[df_2010.UPJONG2_NM == '양식']\n",
    "제과_2010 = df_2010.loc[df_2010.UPJONG2_NM == '제과제빵떡케익']\n",
    "\n",
    "한식_2023 = df_2023.loc[df_2023.상권업종_2 == '한식']\n",
    "양식_2023 = df_2023.loc[df_2023.상권업종_2 == '양식']\n",
    "제과_2023 = df_2023.loc[df_2023.상권업종_2 == '제과제빵떡케익']"
   ]
  },
  {
   "cell_type": "code",
   "execution_count": 16,
   "id": "5b5646e2",
   "metadata": {},
   "outputs": [
    {
     "name": "stdout",
     "output_type": "stream",
     "text": [
      "2010년 : 439 226 37 702\n",
      "2023년 : 462 144 59 665\n"
     ]
    }
   ],
   "source": [
    "a, b, c, = len(한식_2010), len(양식_2010), len(제과_2010)\n",
    "d, e, f, = len(한식_2023), len(양식_2023), len(제과_2023)\n",
    "print('2010년 :', a, b, c, a+b+c)\n",
    "print('2023년 :', d, e, f, d+e+f)"
   ]
  },
  {
   "cell_type": "code",
   "execution_count": 17,
   "id": "93a49b47",
   "metadata": {
    "collapsed": true
   },
   "outputs": [
    {
     "name": "stderr",
     "output_type": "stream",
     "text": [
      "C:\\Users\\Lee_HJ\\AppData\\Local\\Temp\\ipykernel_16600\\918950895.py:1: SettingWithCopyWarning: \n",
      "A value is trying to be set on a copy of a slice from a DataFrame.\n",
      "Try using .loc[row_indexer,col_indexer] = value instead\n",
      "\n",
      "See the caveats in the documentation: https://pandas.pydata.org/pandas-docs/stable/user_guide/indexing.html#returning-a-view-versus-a-copy\n",
      "  한식_2010['상호_도로명'] = 한식_2010.STORE_NM + '|' + 한식_2010.표준신주소\n",
      "C:\\Users\\Lee_HJ\\AppData\\Local\\Temp\\ipykernel_16600\\918950895.py:2: SettingWithCopyWarning: \n",
      "A value is trying to be set on a copy of a slice from a DataFrame.\n",
      "Try using .loc[row_indexer,col_indexer] = value instead\n",
      "\n",
      "See the caveats in the documentation: https://pandas.pydata.org/pandas-docs/stable/user_guide/indexing.html#returning-a-view-versus-a-copy\n",
      "  양식_2010['상호_도로명'] = 양식_2010.STORE_NM + '|' + 양식_2010.표준신주소\n",
      "C:\\Users\\Lee_HJ\\AppData\\Local\\Temp\\ipykernel_16600\\918950895.py:3: SettingWithCopyWarning: \n",
      "A value is trying to be set on a copy of a slice from a DataFrame.\n",
      "Try using .loc[row_indexer,col_indexer] = value instead\n",
      "\n",
      "See the caveats in the documentation: https://pandas.pydata.org/pandas-docs/stable/user_guide/indexing.html#returning-a-view-versus-a-copy\n",
      "  제과_2010['상호_도로명'] = 제과_2010.STORE_NM + '|' + 제과_2010.표준신주소\n",
      "C:\\Users\\Lee_HJ\\AppData\\Local\\Temp\\ipykernel_16600\\918950895.py:5: SettingWithCopyWarning: \n",
      "A value is trying to be set on a copy of a slice from a DataFrame.\n",
      "Try using .loc[row_indexer,col_indexer] = value instead\n",
      "\n",
      "See the caveats in the documentation: https://pandas.pydata.org/pandas-docs/stable/user_guide/indexing.html#returning-a-view-versus-a-copy\n",
      "  한식_2023['상호_도로명'] = 한식_2023.상호명 + '|' + 한식_2023.도로명주소\n",
      "C:\\Users\\Lee_HJ\\AppData\\Local\\Temp\\ipykernel_16600\\918950895.py:6: SettingWithCopyWarning: \n",
      "A value is trying to be set on a copy of a slice from a DataFrame.\n",
      "Try using .loc[row_indexer,col_indexer] = value instead\n",
      "\n",
      "See the caveats in the documentation: https://pandas.pydata.org/pandas-docs/stable/user_guide/indexing.html#returning-a-view-versus-a-copy\n",
      "  양식_2023['상호_도로명'] = 양식_2023.상호명 + '|' + 양식_2023.도로명주소\n",
      "C:\\Users\\Lee_HJ\\AppData\\Local\\Temp\\ipykernel_16600\\918950895.py:7: SettingWithCopyWarning: \n",
      "A value is trying to be set on a copy of a slice from a DataFrame.\n",
      "Try using .loc[row_indexer,col_indexer] = value instead\n",
      "\n",
      "See the caveats in the documentation: https://pandas.pydata.org/pandas-docs/stable/user_guide/indexing.html#returning-a-view-versus-a-copy\n",
      "  제과_2023['상호_도로명'] = 제과_2023.상호명 + '|' + 제과_2023.도로명주소\n",
      "C:\\Users\\Lee_HJ\\AppData\\Local\\Temp\\ipykernel_16600\\918950895.py:9: SettingWithCopyWarning: \n",
      "A value is trying to be set on a copy of a slice from a DataFrame\n",
      "\n",
      "See the caveats in the documentation: https://pandas.pydata.org/pandas-docs/stable/user_guide/indexing.html#returning-a-view-versus-a-copy\n",
      "  한식_2010.dropna(subset=['상호_도로명'], inplace=True)\n",
      "C:\\Users\\Lee_HJ\\AppData\\Local\\Temp\\ipykernel_16600\\918950895.py:10: SettingWithCopyWarning: \n",
      "A value is trying to be set on a copy of a slice from a DataFrame\n",
      "\n",
      "See the caveats in the documentation: https://pandas.pydata.org/pandas-docs/stable/user_guide/indexing.html#returning-a-view-versus-a-copy\n",
      "  양식_2010.dropna(subset=['상호_도로명'], inplace=True)\n",
      "C:\\Users\\Lee_HJ\\AppData\\Local\\Temp\\ipykernel_16600\\918950895.py:11: SettingWithCopyWarning: \n",
      "A value is trying to be set on a copy of a slice from a DataFrame\n",
      "\n",
      "See the caveats in the documentation: https://pandas.pydata.org/pandas-docs/stable/user_guide/indexing.html#returning-a-view-versus-a-copy\n",
      "  제과_2010.dropna(subset=['상호_도로명'], inplace=True)\n",
      "C:\\Users\\Lee_HJ\\AppData\\Local\\Temp\\ipykernel_16600\\918950895.py:13: SettingWithCopyWarning: \n",
      "A value is trying to be set on a copy of a slice from a DataFrame\n",
      "\n",
      "See the caveats in the documentation: https://pandas.pydata.org/pandas-docs/stable/user_guide/indexing.html#returning-a-view-versus-a-copy\n",
      "  한식_2023.dropna(subset=['상호_도로명'], inplace=True)\n",
      "C:\\Users\\Lee_HJ\\AppData\\Local\\Temp\\ipykernel_16600\\918950895.py:14: SettingWithCopyWarning: \n",
      "A value is trying to be set on a copy of a slice from a DataFrame\n",
      "\n",
      "See the caveats in the documentation: https://pandas.pydata.org/pandas-docs/stable/user_guide/indexing.html#returning-a-view-versus-a-copy\n",
      "  양식_2023.dropna(subset=['상호_도로명'], inplace=True)\n",
      "C:\\Users\\Lee_HJ\\AppData\\Local\\Temp\\ipykernel_16600\\918950895.py:15: SettingWithCopyWarning: \n",
      "A value is trying to be set on a copy of a slice from a DataFrame\n",
      "\n",
      "See the caveats in the documentation: https://pandas.pydata.org/pandas-docs/stable/user_guide/indexing.html#returning-a-view-versus-a-copy\n",
      "  제과_2023.dropna(subset=['상호_도로명'], inplace=True)\n"
     ]
    }
   ],
   "source": [
    "한식_2010['상호_도로명'] = 한식_2010.STORE_NM + '|' + 한식_2010.표준신주소\n",
    "양식_2010['상호_도로명'] = 양식_2010.STORE_NM + '|' + 양식_2010.표준신주소\n",
    "제과_2010['상호_도로명'] = 제과_2010.STORE_NM + '|' + 제과_2010.표준신주소\n",
    "\n",
    "한식_2023['상호_도로명'] = 한식_2023.상호명 + '|' + 한식_2023.도로명주소\n",
    "양식_2023['상호_도로명'] = 양식_2023.상호명 + '|' + 양식_2023.도로명주소\n",
    "제과_2023['상호_도로명'] = 제과_2023.상호명 + '|' + 제과_2023.도로명주소\n",
    "\n",
    "한식_2010.dropna(subset=['상호_도로명'], inplace=True)\n",
    "양식_2010.dropna(subset=['상호_도로명'], inplace=True)\n",
    "제과_2010.dropna(subset=['상호_도로명'], inplace=True)\n",
    "\n",
    "한식_2023.dropna(subset=['상호_도로명'], inplace=True)\n",
    "양식_2023.dropna(subset=['상호_도로명'], inplace=True)\n",
    "제과_2023.dropna(subset=['상호_도로명'], inplace=True)"
   ]
  },
  {
   "cell_type": "code",
   "execution_count": 18,
   "id": "b42c92d0",
   "metadata": {},
   "outputs": [
    {
     "name": "stdout",
     "output_type": "stream",
     "text": [
      "2010년 : 427 223 36 686\n",
      "2023년 : 462 144 59 665\n"
     ]
    }
   ],
   "source": [
    "a2, b2, c2, = len(한식_2010), len(양식_2010), len(제과_2010)\n",
    "d2, e2, f2, = len(한식_2023), len(양식_2023), len(제과_2023)\n",
    "print('2010년 :', a2, b2, c2, a2+b2+c2)\n",
    "print('2023년 :', d2, e2, f2, d2+e2+f2)"
   ]
  },
  {
   "cell_type": "code",
   "execution_count": 19,
   "id": "f1690dd0",
   "metadata": {
    "collapsed": true
   },
   "outputs": [
    {
     "name": "stdout",
     "output_type": "stream",
     "text": [
      "<class 'pandas.core.frame.DataFrame'>\n",
      "Int64Index: 427 entries, 0 to 701\n",
      "Data columns (total 17 columns):\n",
      " #   Column      Non-Null Count  Dtype  \n",
      "---  ------      --------------  -----  \n",
      " 0   UPJONG1_NM  427 non-null    object \n",
      " 1   UPJONG2_NM  427 non-null    object \n",
      " 2   UPJONG3_NM  427 non-null    object \n",
      " 3   STORE_NM    427 non-null    object \n",
      " 4   ADDRESS     427 non-null    object \n",
      " 5   PHONE       254 non-null    object \n",
      " 6   입력주소        427 non-null    object \n",
      " 7   X           427 non-null    float64\n",
      " 8   Y           427 non-null    float64\n",
      " 9   CLSS        427 non-null    object \n",
      " 10  PNU         427 non-null    float64\n",
      " 11  주소구분        427 non-null    object \n",
      " 12  표준신주소       427 non-null    object \n",
      " 13  표준구주소       427 non-null    object \n",
      " 14  우편번호        426 non-null    float64\n",
      " 15  법정동명        427 non-null    object \n",
      " 16  상호_도로명      427 non-null    object \n",
      "dtypes: float64(4), object(13)\n",
      "memory usage: 60.0+ KB\n"
     ]
    }
   ],
   "source": [
    "한식_2010.info()"
   ]
  },
  {
   "cell_type": "code",
   "execution_count": 20,
   "id": "a36749a3",
   "metadata": {
    "collapsed": true
   },
   "outputs": [
    {
     "name": "stdout",
     "output_type": "stream",
     "text": [
      "<class 'pandas.core.frame.DataFrame'>\n",
      "Int64Index: 462 entries, 1 to 664\n",
      "Data columns (total 40 columns):\n",
      " #   Column  Non-Null Count  Dtype  \n",
      "---  ------  --------------  -----  \n",
      " 0   상가업소번   462 non-null    object \n",
      " 1   상호명     462 non-null    object \n",
      " 2   지점명     6 non-null      object \n",
      " 3   상권업종대   462 non-null    object \n",
      " 4   상권업종_1  462 non-null    object \n",
      " 5   상권업종중   462 non-null    object \n",
      " 6   상권업종_2  462 non-null    object \n",
      " 7   상권업종소   462 non-null    object \n",
      " 8   상권업종_3  462 non-null    object \n",
      " 9   표준산업분   462 non-null    object \n",
      " 10  표준산업_1  462 non-null    object \n",
      " 11  시도코드    462 non-null    int64  \n",
      " 12  시도명     462 non-null    object \n",
      " 13  시군구코드   462 non-null    int64  \n",
      " 14  시군구명    462 non-null    object \n",
      " 15  행정동코드   462 non-null    int64  \n",
      " 16  행정동명    462 non-null    object \n",
      " 17  법정동코드   462 non-null    int64  \n",
      " 18  법정동명    462 non-null    object \n",
      " 19  지번코드    462 non-null    float64\n",
      " 20  대지구분코   462 non-null    int64  \n",
      " 21  대지구분명   462 non-null    object \n",
      " 22  지번본번지   462 non-null    int64  \n",
      " 23  지번부번지   452 non-null    float64\n",
      " 24  지번주소    462 non-null    object \n",
      " 25  도로명코드   462 non-null    float64\n",
      " 26  도로명     462 non-null    object \n",
      " 27  건물본번지   462 non-null    int64  \n",
      " 28  건물부번지   141 non-null    float64\n",
      " 29  건물관리번   462 non-null    float64\n",
      " 30  건물명     76 non-null     object \n",
      " 31  도로명주소   462 non-null    object \n",
      " 32  구우편번호   462 non-null    int64  \n",
      " 33  신우편번호   462 non-null    int64  \n",
      " 34  동정보     0 non-null      float64\n",
      " 35  층정보     397 non-null    object \n",
      " 36  호정보     0 non-null      float64\n",
      " 37  경도      462 non-null    float64\n",
      " 38  위도      462 non-null    float64\n",
      " 39  상호_도로명  462 non-null    object \n",
      "dtypes: float64(9), int64(9), object(22)\n",
      "memory usage: 148.0+ KB\n"
     ]
    }
   ],
   "source": [
    "한식_2023.info()"
   ]
  },
  {
   "cell_type": "code",
   "execution_count": 22,
   "id": "d3bda101",
   "metadata": {},
   "outputs": [
    {
     "name": "stdout",
     "output_type": "stream",
     "text": [
      "['형님저여요|서울특별시 마포구 어울마당로 136', '옹달샘|서울특별시 마포구 양화로6길 99', '싸리골|서울특별시 마포구 홍익로5길 51', '솔내한옥집|서울특별시 마포구 독막로3길 21-4', '함지박|서울특별시 마포구 와우산로32길 41', '곱창전골|서울특별시 마포구 와우산로29길 8', '웨스턴후라이드라이스|서울특별시 마포구 홍익로 26', '고집|서울특별시 마포구 홍익로 3-11', '사랑채|서울특별시 마포구 신촌로12가길 36', '마포소문난족발|서울특별시 마포구 양화로6길 9', '원당감자탕|서울특별시 마포구 와우산로21길 20-6', '춘향골남원추어탕|서울특별시 마포구 서강로 137-7', '밥순이|서울특별시 마포구 서강로9길 55', '마포소금구이|서울특별시 마포구 와우산로32길 36', '돼지저금통|서울특별시 마포구 어울마당로 146-1', '도마|서울특별시 마포구 양화로16길 33', '김장독|서울특별시 마포구 양화로18길 9', '최고네|서울특별시 마포구 신촌로4길 3', '바다나라|서울특별시 마포구 어울마당로 143', '철길왕갈비살|서울특별시 마포구 와우산로32길 24', '행복한식탁|서울특별시 마포구 양화로 156', '털보고된이|서울특별시 마포구 양화로 178-8', '돈포미삼겹살|서울특별시 마포구 신촌로 76-5', '교수곱창|서울특별시 마포구 홍익로3길 20', '통통돼지|서울특별시 마포구 어울마당로 126-1', '장가네한우촌|서울특별시 마포구 양화로16길 10', '옛날무쇠솥|서울특별시 마포구 서강로1길 12-5', '돈수백|서울특별시 마포구 홍익로6길 56', '옛날집|서울특별시 마포구 어울마당로 143', '도적|서울특별시 마포구 어울마당로5길 3', '백년백세|서울특별시 마포구 양화로 118', '육쌈냉면|서울특별시 마포구 와우산로23길 35', '서교동고기집|서울특별시 마포구 와우산로35길 67', '육쌈냉면|서울특별시 마포구 어울마당로 76'] 34\n",
      "['캐롤킹|서울특별시 마포구 홍익로6길 18', '마루돈까스|서울특별시 마포구 양화로6길 17', '프리모바치오바치|서울특별시 마포구 와우산로23길 44'] 3\n",
      "['쇼콜라윰|서울특별시 마포구 와우산로21길 26', '내가만든미케익|서울특별시 마포구 어울마당로 122', '김진환베이커리|서울특별시 마포구 와우산로32길 41', '퐁포네뜨|서울특별시 마포구 와우산로25길 11'] 4\n"
     ]
    }
   ],
   "source": [
    "# 생존 매장 리스트 생성\n",
    "survival_korean_lst = list(set(한식_2010.상호_도로명) & set(한식_2023.상호_도로명))\n",
    "survival_western_lst = list(set(양식_2010.상호_도로명) & set(양식_2023.상호_도로명))\n",
    "survival_bakery_lst = list(set(제과_2010.상호_도로명) & set(제과_2023.상호_도로명))\n",
    "\n",
    "survival_korean_lst.remove('명품정육식당|서울특별시 마포구 와우산로35길 67')\n",
    "survival_western_lst.remove('프리모바치오|서울특별시 마포구 와우산로23길 44')\n",
    "\n",
    "print(survival_korean_lst, len(survival_korean_lst))\n",
    "print(survival_western_lst, len(survival_western_lst))\n",
    "print(survival_bakery_lst, len(survival_bakery_lst))"
   ]
  },
  {
   "cell_type": "code",
   "execution_count": 23,
   "id": "635b08d8",
   "metadata": {},
   "outputs": [],
   "source": [
    "# 업종별 생종 매장 데이터 프레임 생성\n",
    "survival_kr = 한식_2023.loc[한식_2023['상호_도로명'].isin(survival_korean_lst)]\n",
    "survival_ws = 양식_2023.loc[양식_2023['상호_도로명'].isin(survival_western_lst)]\n",
    "survival_bk = 제과_2023.loc[제과_2023['상호_도로명'].isin(survival_bakery_lst)]\n",
    "\n",
    "survival = pd.concat([survival_kr, survival_ws, survival_bk])"
   ]
  },
  {
   "cell_type": "code",
   "execution_count": 35,
   "id": "eedd79f3",
   "metadata": {},
   "outputs": [
    {
     "data": {
      "text/html": [
       "<div>\n",
       "<style scoped>\n",
       "    .dataframe tbody tr th:only-of-type {\n",
       "        vertical-align: middle;\n",
       "    }\n",
       "\n",
       "    .dataframe tbody tr th {\n",
       "        vertical-align: top;\n",
       "    }\n",
       "\n",
       "    .dataframe thead th {\n",
       "        text-align: right;\n",
       "    }\n",
       "</style>\n",
       "<table border=\"1\" class=\"dataframe\">\n",
       "  <thead>\n",
       "    <tr style=\"text-align: right;\">\n",
       "      <th></th>\n",
       "      <th>법정동명</th>\n",
       "      <th>생존 매장 수</th>\n",
       "      <th>2010년 법정동별 매장 수</th>\n",
       "      <th>법정동별 생존율</th>\n",
       "      <th>생존 매장 비율</th>\n",
       "    </tr>\n",
       "  </thead>\n",
       "  <tbody>\n",
       "    <tr>\n",
       "      <th>2</th>\n",
       "      <td>서교동</td>\n",
       "      <td>24</td>\n",
       "      <td>458</td>\n",
       "      <td>5.240175</td>\n",
       "      <td>58.536585</td>\n",
       "    </tr>\n",
       "    <tr>\n",
       "      <th>1</th>\n",
       "      <td>동교동</td>\n",
       "      <td>11</td>\n",
       "      <td>96</td>\n",
       "      <td>11.458333</td>\n",
       "      <td>26.829268</td>\n",
       "    </tr>\n",
       "    <tr>\n",
       "      <th>0</th>\n",
       "      <td>노고산동</td>\n",
       "      <td>3</td>\n",
       "      <td>68</td>\n",
       "      <td>4.411765</td>\n",
       "      <td>7.317073</td>\n",
       "    </tr>\n",
       "    <tr>\n",
       "      <th>3</th>\n",
       "      <td>창전동</td>\n",
       "      <td>3</td>\n",
       "      <td>39</td>\n",
       "      <td>7.692308</td>\n",
       "      <td>7.317073</td>\n",
       "    </tr>\n",
       "  </tbody>\n",
       "</table>\n",
       "</div>"
      ],
      "text/plain": [
       "   법정동명  생존 매장 수  2010년 법정동별 매장 수   법정동별 생존율   생존 매장 비율\n",
       "2   서교동       24              458   5.240175  58.536585\n",
       "1   동교동       11               96  11.458333  26.829268\n",
       "0  노고산동        3               68   4.411765   7.317073\n",
       "3   창전동        3               39   7.692308   7.317073"
      ]
     },
     "execution_count": 35,
     "metadata": {},
     "output_type": "execute_result"
    }
   ],
   "source": [
    "survival_dong_cnt = survival.groupby('법정동명')['상호명'].agg([('생존 매장 수',\n",
    "                                                          'count')]).reset_index().sort_values('생존 매장 수',ascending=False)\n",
    "survival_dong_cnt['2010년 법정동별 매장 수'] = [458,96,68,39]\n",
    "survival_dong_cnt['법정동별 생존율'] = survival_dong_cnt['생존 매장 수']/survival_dong_cnt['2010년 법정동별 매장 수']*100\n",
    "survival_dong_cnt['생존 매장 비율'] = survival_dong_cnt['생존 매장 수'].apply(lambda x : x/sum(survival_dong_cnt['생존 매장 수'])*100)\n",
    "survival_dong_cnt"
   ]
  },
  {
   "cell_type": "code",
   "execution_count": 25,
   "id": "e7a807e2",
   "metadata": {
    "collapsed": true
   },
   "outputs": [
    {
     "data": {
      "image/png": "[encoded data removed]",
      "text/plain": [
       "<Figure size 640x480 with 1 Axes>"
      ]
     },
     "metadata": {},
     "output_type": "display_data"
    }
   ],
   "source": [
    "sns.barplot(x='법정동명', y='생존 매장 수', data=survival_dong_cnt)\n",
    "plt.title('법정동별 10년간 생존한 매장 수')\n",
    "plt.show()"
   ]
  },
  {
   "cell_type": "code",
   "execution_count": 24,
   "id": "58a44e96",
   "metadata": {},
   "outputs": [],
   "source": [
    "# 데이터프레임 저장\n",
    "# survival_kr.to_csv('survial_kr.csv',index=False,encoding='cp949')\n",
    "# survival_ws.to_csv('survial_ws.csv',index=False,encoding='cp949')\n",
    "# survival_bk.to_csv('survial_bk.csv',index=False,encoding='cp949')"
   ]
  },
  {
   "cell_type": "markdown",
   "id": "68647acc",
   "metadata": {},
   "source": [
    "# 업종별 매장 증감율"
   ]
  },
  {
   "cell_type": "code",
   "execution_count": 26,
   "id": "16554b03",
   "metadata": {
    "collapsed": true
   },
   "outputs": [
    {
     "data": {
      "text/html": [
       "<div>\n",
       "<style scoped>\n",
       "    .dataframe tbody tr th:only-of-type {\n",
       "        vertical-align: middle;\n",
       "    }\n",
       "\n",
       "    .dataframe tbody tr th {\n",
       "        vertical-align: top;\n",
       "    }\n",
       "\n",
       "    .dataframe thead th {\n",
       "        text-align: right;\n",
       "    }\n",
       "</style>\n",
       "<table border=\"1\" class=\"dataframe\">\n",
       "  <thead>\n",
       "    <tr style=\"text-align: right;\">\n",
       "      <th></th>\n",
       "      <th>STORE_NM</th>\n",
       "      <th>UPJONG2_NM</th>\n",
       "      <th>UPJONG3_NM</th>\n",
       "      <th>법정동명</th>\n",
       "    </tr>\n",
       "  </thead>\n",
       "  <tbody>\n",
       "    <tr>\n",
       "      <th>0</th>\n",
       "      <td>시로</td>\n",
       "      <td>한식</td>\n",
       "      <td>한식/백반/한정식</td>\n",
       "      <td>서교동</td>\n",
       "    </tr>\n",
       "    <tr>\n",
       "      <th>1</th>\n",
       "      <td>피아체레(piacere)</td>\n",
       "      <td>양식</td>\n",
       "      <td>정통양식/경양식</td>\n",
       "      <td>서교동</td>\n",
       "    </tr>\n",
       "    <tr>\n",
       "      <th>2</th>\n",
       "      <td>섬소년</td>\n",
       "      <td>한식</td>\n",
       "      <td>한식/백반/한정식</td>\n",
       "      <td>서교동</td>\n",
       "    </tr>\n",
       "    <tr>\n",
       "      <th>3</th>\n",
       "      <td>토마토도시락 홍대점</td>\n",
       "      <td>한식</td>\n",
       "      <td>한식/백반/한정식</td>\n",
       "      <td>창전동</td>\n",
       "    </tr>\n",
       "    <tr>\n",
       "      <th>4</th>\n",
       "      <td>솥</td>\n",
       "      <td>한식</td>\n",
       "      <td>한식/백반/한정식</td>\n",
       "      <td>서교동</td>\n",
       "    </tr>\n",
       "    <tr>\n",
       "      <th>...</th>\n",
       "      <td>...</td>\n",
       "      <td>...</td>\n",
       "      <td>...</td>\n",
       "      <td>...</td>\n",
       "    </tr>\n",
       "    <tr>\n",
       "      <th>697</th>\n",
       "      <td>단추</td>\n",
       "      <td>양식</td>\n",
       "      <td>기타전문서양음식점</td>\n",
       "      <td>서교동</td>\n",
       "    </tr>\n",
       "    <tr>\n",
       "      <th>698</th>\n",
       "      <td>파스타부오노</td>\n",
       "      <td>양식</td>\n",
       "      <td>기타전문서양음식점</td>\n",
       "      <td>동교동</td>\n",
       "    </tr>\n",
       "    <tr>\n",
       "      <th>699</th>\n",
       "      <td>비나모르(와인바)</td>\n",
       "      <td>양식</td>\n",
       "      <td>기타전문서양음식점</td>\n",
       "      <td>서교동</td>\n",
       "    </tr>\n",
       "    <tr>\n",
       "      <th>700</th>\n",
       "      <td>레뜨레깜빠네</td>\n",
       "      <td>양식</td>\n",
       "      <td>기타전문서양음식점</td>\n",
       "      <td>서교동</td>\n",
       "    </tr>\n",
       "    <tr>\n",
       "      <th>701</th>\n",
       "      <td>초당</td>\n",
       "      <td>한식</td>\n",
       "      <td>한정식전문</td>\n",
       "      <td>창전동</td>\n",
       "    </tr>\n",
       "  </tbody>\n",
       "</table>\n",
       "<p>702 rows × 4 columns</p>\n",
       "</div>"
      ],
      "text/plain": [
       "          STORE_NM UPJONG2_NM UPJONG3_NM 법정동명\n",
       "0               시로         한식  한식/백반/한정식  서교동\n",
       "1    피아체레(piacere)         양식   정통양식/경양식  서교동\n",
       "2              섬소년         한식  한식/백반/한정식  서교동\n",
       "3       토마토도시락 홍대점         한식  한식/백반/한정식  창전동\n",
       "4                솥         한식  한식/백반/한정식  서교동\n",
       "..             ...        ...        ...  ...\n",
       "697             단추         양식  기타전문서양음식점  서교동\n",
       "698         파스타부오노         양식  기타전문서양음식점  동교동\n",
       "699      비나모르(와인바)         양식  기타전문서양음식점  서교동\n",
       "700         레뜨레깜빠네         양식  기타전문서양음식점  서교동\n",
       "701             초당         한식      한정식전문  창전동\n",
       "\n",
       "[702 rows x 4 columns]"
      ]
     },
     "metadata": {},
     "output_type": "display_data"
    },
    {
     "data": {
      "text/html": [
       "<div>\n",
       "<style scoped>\n",
       "    .dataframe tbody tr th:only-of-type {\n",
       "        vertical-align: middle;\n",
       "    }\n",
       "\n",
       "    .dataframe tbody tr th {\n",
       "        vertical-align: top;\n",
       "    }\n",
       "\n",
       "    .dataframe thead th {\n",
       "        text-align: right;\n",
       "    }\n",
       "</style>\n",
       "<table border=\"1\" class=\"dataframe\">\n",
       "  <thead>\n",
       "    <tr style=\"text-align: right;\">\n",
       "      <th></th>\n",
       "      <th>상호명</th>\n",
       "      <th>상권업종_2</th>\n",
       "      <th>상권업종_3</th>\n",
       "      <th>법정동명</th>\n",
       "    </tr>\n",
       "  </thead>\n",
       "  <tbody>\n",
       "    <tr>\n",
       "      <th>0</th>\n",
       "      <td>뚜레쥬르신촌</td>\n",
       "      <td>제과제빵떡케익</td>\n",
       "      <td>빵/도넛</td>\n",
       "      <td>노고산동</td>\n",
       "    </tr>\n",
       "    <tr>\n",
       "      <th>1</th>\n",
       "      <td>무국적식탁</td>\n",
       "      <td>한식</td>\n",
       "      <td>백반/한정식</td>\n",
       "      <td>동교동</td>\n",
       "    </tr>\n",
       "    <tr>\n",
       "      <th>2</th>\n",
       "      <td>모두의주방</td>\n",
       "      <td>한식</td>\n",
       "      <td>백반/한정식</td>\n",
       "      <td>서교동</td>\n",
       "    </tr>\n",
       "    <tr>\n",
       "      <th>3</th>\n",
       "      <td>피오니케이크</td>\n",
       "      <td>제과제빵떡케익</td>\n",
       "      <td>빵/도넛</td>\n",
       "      <td>서교동</td>\n",
       "    </tr>\n",
       "    <tr>\n",
       "      <th>4</th>\n",
       "      <td>무쏘홍대입구역점</td>\n",
       "      <td>한식</td>\n",
       "      <td>백반/한정식</td>\n",
       "      <td>동교동</td>\n",
       "    </tr>\n",
       "    <tr>\n",
       "      <th>...</th>\n",
       "      <td>...</td>\n",
       "      <td>...</td>\n",
       "      <td>...</td>\n",
       "      <td>...</td>\n",
       "    </tr>\n",
       "    <tr>\n",
       "      <th>660</th>\n",
       "      <td>티퍼프</td>\n",
       "      <td>양식</td>\n",
       "      <td>경양식</td>\n",
       "      <td>서교동</td>\n",
       "    </tr>\n",
       "    <tr>\n",
       "      <th>661</th>\n",
       "      <td>든든덮밥&amp;곱도리</td>\n",
       "      <td>한식</td>\n",
       "      <td>기타 한식 음식점</td>\n",
       "      <td>서교동</td>\n",
       "    </tr>\n",
       "    <tr>\n",
       "      <th>662</th>\n",
       "      <td>티제이프렌즈수상한베이글</td>\n",
       "      <td>제과제빵떡케익</td>\n",
       "      <td>빵/도넛</td>\n",
       "      <td>서교동</td>\n",
       "    </tr>\n",
       "    <tr>\n",
       "      <th>663</th>\n",
       "      <td>라라음악사</td>\n",
       "      <td>한식</td>\n",
       "      <td>백반/한정식</td>\n",
       "      <td>상수동</td>\n",
       "    </tr>\n",
       "    <tr>\n",
       "      <th>664</th>\n",
       "      <td>네버다이피닉스황곱</td>\n",
       "      <td>한식</td>\n",
       "      <td>백반/한정식</td>\n",
       "      <td>동교동</td>\n",
       "    </tr>\n",
       "  </tbody>\n",
       "</table>\n",
       "<p>665 rows × 4 columns</p>\n",
       "</div>"
      ],
      "text/plain": [
       "              상호명   상권업종_2     상권업종_3  법정동명\n",
       "0          뚜레쥬르신촌  제과제빵떡케익       빵/도넛  노고산동\n",
       "1           무국적식탁       한식     백반/한정식   동교동\n",
       "2           모두의주방       한식     백반/한정식   서교동\n",
       "3          피오니케이크  제과제빵떡케익       빵/도넛   서교동\n",
       "4        무쏘홍대입구역점       한식     백반/한정식   동교동\n",
       "..            ...      ...        ...   ...\n",
       "660           티퍼프       양식        경양식   서교동\n",
       "661      든든덮밥&곱도리       한식  기타 한식 음식점   서교동\n",
       "662  티제이프렌즈수상한베이글  제과제빵떡케익       빵/도넛   서교동\n",
       "663         라라음악사       한식     백반/한정식   상수동\n",
       "664     네버다이피닉스황곱       한식     백반/한정식   동교동\n",
       "\n",
       "[665 rows x 4 columns]"
      ]
     },
     "metadata": {},
     "output_type": "display_data"
    }
   ],
   "source": [
    "type_2010 = df_2010[['STORE_NM','UPJONG2_NM','UPJONG3_NM','법정동명']]\n",
    "type_2023 = df_2023[['상호명','상권업종_2','상권업종_3','법정동명']]\n",
    "display(type_2010, type_2023)"
   ]
  },
  {
   "cell_type": "code",
   "execution_count": 27,
   "id": "a72a607a",
   "metadata": {},
   "outputs": [],
   "source": [
    "df_2010_cnt = type_2010.groupby('UPJONG2_NM')['STORE_NM'].agg([('2010_cnt',\n",
    "                                                                'count')]).reset_index().sort_values('2010_cnt',ascending=False)\n",
    "df_2023_cnt = type_2023.groupby('상권업종_2')['상호명'].agg([('2023_cnt',\n",
    "                                                       'count')]).reset_index().sort_values('2023_cnt',ascending=False)"
   ]
  },
  {
   "cell_type": "code",
   "execution_count": 30,
   "id": "532bf4c3",
   "metadata": {},
   "outputs": [
    {
     "data": {
      "text/html": [
       "<div>\n",
       "<style scoped>\n",
       "    .dataframe tbody tr th:only-of-type {\n",
       "        vertical-align: middle;\n",
       "    }\n",
       "\n",
       "    .dataframe tbody tr th {\n",
       "        vertical-align: top;\n",
       "    }\n",
       "\n",
       "    .dataframe thead th {\n",
       "        text-align: right;\n",
       "    }\n",
       "</style>\n",
       "<table border=\"1\" class=\"dataframe\">\n",
       "  <thead>\n",
       "    <tr style=\"text-align: right;\">\n",
       "      <th></th>\n",
       "      <th>업종</th>\n",
       "      <th>2010_cnt</th>\n",
       "      <th>2023_cnt</th>\n",
       "      <th>증감율</th>\n",
       "      <th>10년 이상 생존 매장 수</th>\n",
       "      <th>10년 이상 생존율</th>\n",
       "    </tr>\n",
       "  </thead>\n",
       "  <tbody>\n",
       "    <tr>\n",
       "      <th>2</th>\n",
       "      <td>한식</td>\n",
       "      <td>439</td>\n",
       "      <td>462</td>\n",
       "      <td>5.239180</td>\n",
       "      <td>34</td>\n",
       "      <td>7.744875</td>\n",
       "    </tr>\n",
       "    <tr>\n",
       "      <th>0</th>\n",
       "      <td>양식</td>\n",
       "      <td>226</td>\n",
       "      <td>144</td>\n",
       "      <td>-36.283186</td>\n",
       "      <td>3</td>\n",
       "      <td>1.327434</td>\n",
       "    </tr>\n",
       "    <tr>\n",
       "      <th>1</th>\n",
       "      <td>제과제빵떡케익</td>\n",
       "      <td>37</td>\n",
       "      <td>59</td>\n",
       "      <td>59.459459</td>\n",
       "      <td>4</td>\n",
       "      <td>10.810811</td>\n",
       "    </tr>\n",
       "  </tbody>\n",
       "</table>\n",
       "</div>"
      ],
      "text/plain": [
       "        업종  2010_cnt  2023_cnt        증감율  10년 이상 생존 매장 수  10년 이상 생존율\n",
       "2       한식       439       462   5.239180              34    7.744875\n",
       "0       양식       226       144 -36.283186               3    1.327434\n",
       "1  제과제빵떡케익        37        59  59.459459               4   10.810811"
      ]
     },
     "execution_count": 30,
     "metadata": {},
     "output_type": "execute_result"
    }
   ],
   "source": [
    "df_year_cnt = pd.concat([df_2010_cnt, df_2023_cnt[['2023_cnt']]],axis=1).rename(columns={'UPJONG2_NM':'업종'})\n",
    "df_year_cnt['증감율'] = (df_year_cnt['2023_cnt']-df_year_cnt['2010_cnt'])/df_year_cnt['2010_cnt']*100\n",
    "df_year_cnt['10년 이상 생존 매장 수'] = [34,3,4]\n",
    "df_year_cnt['10년 이상 생존율'] = df_year_cnt['10년 이상 생존 매장 수']/df_year_cnt['2010_cnt']*100\n",
    "df_year_cnt"
   ]
  },
  {
   "cell_type": "code",
   "execution_count": 14,
   "id": "affc0bdf",
   "metadata": {},
   "outputs": [
    {
     "data": {
      "text/plain": [
       "10.81081081081081"
      ]
     },
     "execution_count": 14,
     "metadata": {},
     "output_type": "execute_result"
    }
   ],
   "source": [
    "4/37*100"
   ]
  },
  {
   "cell_type": "code",
   "execution_count": 83,
   "id": "af8f70f4",
   "metadata": {},
   "outputs": [
    {
     "data": {
      "image/png": "[encoded data removed]",
      "text/plain": [
       "<Figure size 640x480 with 1 Axes>"
      ]
     },
     "metadata": {},
     "output_type": "display_data"
    }
   ],
   "source": [
    "df_melt = pd.melt(df_year_cnt, id_vars=\"업종\", var_name=\"연도별 업종 매장 수\", value_name=\"매장 수\")\n",
    "sns.barplot(x='업종', y='매장 수', hue='연도별 업종 매장 수', data=df_melt)\n",
    "plt.title('업종별 매장 수')\n",
    "plt.show()"
   ]
  },
  {
   "cell_type": "code",
   "execution_count": 133,
   "id": "314df654",
   "metadata": {},
   "outputs": [
    {
     "data": {
      "text/html": [
       "<div>\n",
       "<style scoped>\n",
       "    .dataframe tbody tr th:only-of-type {\n",
       "        vertical-align: middle;\n",
       "    }\n",
       "\n",
       "    .dataframe tbody tr th {\n",
       "        vertical-align: top;\n",
       "    }\n",
       "\n",
       "    .dataframe thead th {\n",
       "        text-align: right;\n",
       "    }\n",
       "</style>\n",
       "<table border=\"1\" class=\"dataframe\">\n",
       "  <thead>\n",
       "    <tr style=\"text-align: right;\">\n",
       "      <th></th>\n",
       "      <th>법정동명</th>\n",
       "      <th>2010년 매장 수</th>\n",
       "      <th>2023년 매장 수</th>\n",
       "      <th>매장 수 증감률</th>\n",
       "    </tr>\n",
       "  </thead>\n",
       "  <tbody>\n",
       "    <tr>\n",
       "      <th>0</th>\n",
       "      <td>노고산동</td>\n",
       "      <td>68</td>\n",
       "      <td>37</td>\n",
       "      <td>-45.588235</td>\n",
       "    </tr>\n",
       "    <tr>\n",
       "      <th>1</th>\n",
       "      <td>동교동</td>\n",
       "      <td>96</td>\n",
       "      <td>86</td>\n",
       "      <td>-10.416667</td>\n",
       "    </tr>\n",
       "    <tr>\n",
       "      <th>2</th>\n",
       "      <td>상수동</td>\n",
       "      <td>41</td>\n",
       "      <td>74</td>\n",
       "      <td>80.487805</td>\n",
       "    </tr>\n",
       "    <tr>\n",
       "      <th>3</th>\n",
       "      <td>서교동</td>\n",
       "      <td>458</td>\n",
       "      <td>434</td>\n",
       "      <td>-5.240175</td>\n",
       "    </tr>\n",
       "    <tr>\n",
       "      <th>4</th>\n",
       "      <td>창전동</td>\n",
       "      <td>39</td>\n",
       "      <td>34</td>\n",
       "      <td>-12.820513</td>\n",
       "    </tr>\n",
       "  </tbody>\n",
       "</table>\n",
       "</div>"
      ],
      "text/plain": [
       "   법정동명  2010년 매장 수  2023년 매장 수   매장 수 증감률\n",
       "0  노고산동          68          37 -45.588235\n",
       "1   동교동          96          86 -10.416667\n",
       "2   상수동          41          74  80.487805\n",
       "3   서교동         458         434  -5.240175\n",
       "4   창전동          39          34 -12.820513"
      ]
     },
     "execution_count": 133,
     "metadata": {},
     "output_type": "execute_result"
    }
   ],
   "source": [
    "dong_2010_cnt = type_2010.groupby('법정동명')['UPJONG2_NM'].agg([('2010년 매장 수','count')]).reset_index()\n",
    "dong_2023_cnt = type_2023.groupby('법정동명')['상권업종_2'].agg([('2023년 매장 수','count')]).reset_index()\n",
    "dong_cnt = pd.concat([dong_2010_cnt,dong_2023_cnt[['2023년 매장 수']]],axis=1)\n",
    "dong_cnt['매장 수 증감률'] = (dong_cnt['2023년 매장 수']-dong_cnt['2010년 매장 수'])/dong_cnt['2010년 매장 수']*100\n",
    "dong_cnt"
   ]
  },
  {
   "cell_type": "code",
   "execution_count": 135,
   "id": "04fe0aa0",
   "metadata": {},
   "outputs": [
    {
     "data": {
      "image/png": "[encoded data removed]",
      "text/plain": [
       "<Figure size 640x480 with 1 Axes>"
      ]
     },
     "metadata": {},
     "output_type": "display_data"
    }
   ],
   "source": [
    "df_melt2 = pd.melt(dong_cnt.iloc[:,:3], id_vars=\"법정동명\", var_name=\"법정동별 업종 매장 수\", value_name=\"매장 수\")\n",
    "sns.barplot(x='법정동명', y='매장 수', hue='법정동별 업종 매장 수', data=df_melt2)\n",
    "plt.title('법정동별 매장 수')\n",
    "plt.show()"
   ]
  },
  {
   "cell_type": "code",
   "execution_count": null,
   "id": "7e8e4bf4",
   "metadata": {},
   "outputs": [],
   "source": []
  }
 ],
 "metadata": {
  "kernelspec": {
   "display_name": "Python 3 (ipykernel)",
   "language": "python",
   "name": "python3"
  },
  "language_info": {
   "codemirror_mode": {
    "name": "ipython",
    "version": 3
   },
   "file_extension": ".py",
   "mimetype": "text/x-python",
   "name": "python",
   "nbconvert_exporter": "python",
   "pygments_lexer": "ipython3",
   "version": "3.9.13"
  }
 },
 "nbformat": 4,
 "nbformat_minor": 5
}
