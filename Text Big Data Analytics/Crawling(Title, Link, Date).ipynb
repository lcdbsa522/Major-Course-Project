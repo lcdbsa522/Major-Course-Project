{
 "cells": [
  {
   "cell_type": "code",
   "execution_count": 1,
   "id": "482c95ee",
   "metadata": {},
   "outputs": [],
   "source": [
    "# 기본적인 데이터 핸들링\n",
    "import pandas as pd\n",
    "import numpy as np\n",
    "from datetime import datetime\n",
    "\n",
    "# Crawling\n",
    "import requests\n",
    "from bs4 import BeautifulSoup\n",
    "\n",
    "# 시간 제어 및 진행 경과 확인\n",
    "from tqdm.notebook import tqdm\n",
    "import time\n",
    "import random"
   ]
  },
  {
   "cell_type": "code",
   "execution_count": 2,
   "id": "b37ff788",
   "metadata": {},
   "outputs": [],
   "source": [
    "# Naver 증권의 뉴스공시 페이지에서 제목, 링크, 게시일을 수집\n",
    "def get_title_link_date(code_page):\n",
    "    # 네이버 증권 뉴스공시 페이지에서 종목과 페이지를 제외한 링크\n",
    "    front_url = f\"https://finance.naver.com/item/news_news.naver?\"\n",
    "    end_url = \"&sm=title_entity_id.basic&clusterId=\"\n",
    "    \n",
    "    # User-Agent를 통해서 봇 의심 우회\n",
    "    headers = {\"User-Agent\": \n",
    "               \"Mozilla/5.0 (Windows NT 10.0; Win64; x64) AppleWebKit/537.36 (KHTML, like Gecko) Chrome/58.0.3029.110 Safari/537.3\"}\n",
    "    \n",
    "    # 데이터 저장을 위한 리스트 생성\n",
    "    stock_items, titles, links, dates = [], [], [], []\n",
    "    \n",
    "    # 진행률 확인을 위한 tqdm 생성\n",
    "    outer_bar = tqdm(code_page.items(), total=len(code_page.items()), position=0)\n",
    "    \n",
    "    # 입력받은 종목 딕셔너리와 페이지 수 리스트를 통해서 제목, 링크, 게시일 수집\n",
    "    for c_key, c_item in outer_bar:\n",
    "        outer_bar.set_description(f'Porcessiong Stock {c_key}')\n",
    "        \n",
    "        pages = [i for i in range(1,c_item[1]+1)]\n",
    "        inner_bar = tqdm(pages, total=len(pages), leave=False, position=1)\n",
    "        # 키워드는 고정된 채로 페이지를 넘기며 수집\n",
    "        for p in inner_bar:\n",
    "            inner_bar.set_description(f'Porcessiong Page {p}')\n",
    "            \n",
    "            query = f\"code={c_item[0]}&page={p}\"\n",
    "            url = front_url + query + end_url\n",
    "            response = requests.get(url, headers=headers)\n",
    "            bs_obj = BeautifulSoup(response.text, 'html.parser')\n",
    "\n",
    "            title_link_tag = bs_obj.find_all('td', {'class' : 'title'})\n",
    "            date_tag = bs_obj.find_all('td', {'class' : 'date'})\n",
    "            # 해당 페이지에서 스크랩핑한 정보들 저장\n",
    "            for i in range(len(title_link_tag)):\n",
    "                title = title_link_tag[i].find('a').text\n",
    "                link = 'https://finance.naver.com'+title_link_tag[i].find('a')['href']\n",
    "                date = datetime.strptime(date_tag[i].text[1:11],'%Y.%m.%d').date()\n",
    "                \n",
    "                # 수집한 제목, 링크, 게시일과 해당 뉴스의 종목을 리스트에 저장\n",
    "                stock_items.append(c_key)\n",
    "                titles.append(title)\n",
    "                links.append(link)\n",
    "                dates.append(date)\n",
    "                \n",
    "            time.sleep(0.5 + random.random())\n",
    "        time.sleep(0.5 + random.random())\n",
    "        inner_bar.close()\n",
    "    outer_bar.close()\n",
    "    # 수집한 데이터를 데이터 프레임으로 저장\n",
    "    df_crawling = pd.DataFrame({'Stock_Item' : stock_items, 'Title' : titles, 'Link' : links, 'Date' : dates})\n",
    "    \n",
    "    return df_crawling"
   ]
  },
  {
   "cell_type": "code",
   "execution_count": 3,
   "id": "7e4ccd27",
   "metadata": {},
   "outputs": [],
   "source": [
    "# 2023년의 데이터만 수집하기 위해서 각 기업과 종목코드, 페이지번호가 담긴 딕셔너리 생성\n",
    "dict_semiconductor = {'삼성전자' : ['005930',401], 'SK하이닉스' : ['000660',153]}\n",
    "\n",
    "dict_electric_car_battery = {'현대차' : ['005380',401], 'LG에너지솔루션' : ['373220',111]}\n",
    "\n",
    "dict_petrochemistry = {'LG화학' : ['051910',64], 'SK이노베이션' : ['096770',35],\n",
    "                  '롯데케미칼' : ['011170',41], 'S-OIL' : ['010950',38]}\n",
    "\n",
    "dict_shipbuilding_shiping = {'HD현대중공업' : ['329180',19], '대우조선해양' : ['042660',51], '현대미포조선' : ['010620',11],\n",
    "                             '삼성중공업' : ['010140',15], 'HD한국조선해양' : ['009540',44], 'HMM' : ['011200',24],\n",
    "                             '팬오션' : ['028670',3]}\n",
    "\n",
    "dict_steel = {'현대제철' : ['004020',28], 'POSCO홀딩스' : ['005490',215], '고려아연' : ['010130',16]}"
   ]
  },
  {
   "cell_type": "code",
   "execution_count": 4,
   "id": "d7ee557f",
   "metadata": {
    "collapsed": true
   },
   "outputs": [
    {
     "data": {
      "application/vnd.jupyter.widget-view+json": {
       "model_id": "37ee2e325eed4cc98090b6e936e1c576",
       "version_major": 2,
       "version_minor": 0
      },
      "text/plain": [
       "  0%|          | 0/2 [00:00<?, ?it/s]"
      ]
     },
     "metadata": {},
     "output_type": "display_data"
    },
    {
     "data": {
      "application/vnd.jupyter.widget-view+json": {
       "model_id": "",
       "version_major": 2,
       "version_minor": 0
      },
      "text/plain": [
       "  0%|          | 0/401 [00:00<?, ?it/s]"
      ]
     },
     "metadata": {},
     "output_type": "display_data"
    },
    {
     "data": {
      "application/vnd.jupyter.widget-view+json": {
       "model_id": "",
       "version_major": 2,
       "version_minor": 0
      },
      "text/plain": [
       "  0%|          | 0/153 [00:00<?, ?it/s]"
      ]
     },
     "metadata": {},
     "output_type": "display_data"
    },
    {
     "data": {
      "application/vnd.jupyter.widget-view+json": {
       "model_id": "2bd3adf739a54e9b8ba8d31a065ae43d",
       "version_major": 2,
       "version_minor": 0
      },
      "text/plain": [
       "  0%|          | 0/2 [00:00<?, ?it/s]"
      ]
     },
     "metadata": {},
     "output_type": "display_data"
    },
    {
     "data": {
      "application/vnd.jupyter.widget-view+json": {
       "model_id": "",
       "version_major": 2,
       "version_minor": 0
      },
      "text/plain": [
       "  0%|          | 0/401 [00:00<?, ?it/s]"
      ]
     },
     "metadata": {},
     "output_type": "display_data"
    },
    {
     "data": {
      "application/vnd.jupyter.widget-view+json": {
       "model_id": "",
       "version_major": 2,
       "version_minor": 0
      },
      "text/plain": [
       "  0%|          | 0/111 [00:00<?, ?it/s]"
      ]
     },
     "metadata": {},
     "output_type": "display_data"
    },
    {
     "data": {
      "application/vnd.jupyter.widget-view+json": {
       "model_id": "6fe4e082569b43118fe26987c95b3221",
       "version_major": 2,
       "version_minor": 0
      },
      "text/plain": [
       "  0%|          | 0/4 [00:00<?, ?it/s]"
      ]
     },
     "metadata": {},
     "output_type": "display_data"
    },
    {
     "data": {
      "application/vnd.jupyter.widget-view+json": {
       "model_id": "",
       "version_major": 2,
       "version_minor": 0
      },
      "text/plain": [
       "  0%|          | 0/64 [00:00<?, ?it/s]"
      ]
     },
     "metadata": {},
     "output_type": "display_data"
    },
    {
     "data": {
      "application/vnd.jupyter.widget-view+json": {
       "model_id": "",
       "version_major": 2,
       "version_minor": 0
      },
      "text/plain": [
       "  0%|          | 0/35 [00:00<?, ?it/s]"
      ]
     },
     "metadata": {},
     "output_type": "display_data"
    },
    {
     "data": {
      "application/vnd.jupyter.widget-view+json": {
       "model_id": "",
       "version_major": 2,
       "version_minor": 0
      },
      "text/plain": [
       "  0%|          | 0/41 [00:00<?, ?it/s]"
      ]
     },
     "metadata": {},
     "output_type": "display_data"
    },
    {
     "data": {
      "application/vnd.jupyter.widget-view+json": {
       "model_id": "",
       "version_major": 2,
       "version_minor": 0
      },
      "text/plain": [
       "  0%|          | 0/38 [00:00<?, ?it/s]"
      ]
     },
     "metadata": {},
     "output_type": "display_data"
    },
    {
     "data": {
      "application/vnd.jupyter.widget-view+json": {
       "model_id": "f5a40c49eb1a4872bd65cf32e3b78f00",
       "version_major": 2,
       "version_minor": 0
      },
      "text/plain": [
       "  0%|          | 0/7 [00:00<?, ?it/s]"
      ]
     },
     "metadata": {},
     "output_type": "display_data"
    },
    {
     "data": {
      "application/vnd.jupyter.widget-view+json": {
       "model_id": "",
       "version_major": 2,
       "version_minor": 0
      },
      "text/plain": [
       "  0%|          | 0/19 [00:00<?, ?it/s]"
      ]
     },
     "metadata": {},
     "output_type": "display_data"
    },
    {
     "data": {
      "application/vnd.jupyter.widget-view+json": {
       "model_id": "",
       "version_major": 2,
       "version_minor": 0
      },
      "text/plain": [
       "  0%|          | 0/51 [00:00<?, ?it/s]"
      ]
     },
     "metadata": {},
     "output_type": "display_data"
    },
    {
     "data": {
      "application/vnd.jupyter.widget-view+json": {
       "model_id": "",
       "version_major": 2,
       "version_minor": 0
      },
      "text/plain": [
       "  0%|          | 0/11 [00:00<?, ?it/s]"
      ]
     },
     "metadata": {},
     "output_type": "display_data"
    },
    {
     "data": {
      "application/vnd.jupyter.widget-view+json": {
       "model_id": "",
       "version_major": 2,
       "version_minor": 0
      },
      "text/plain": [
       "  0%|          | 0/15 [00:00<?, ?it/s]"
      ]
     },
     "metadata": {},
     "output_type": "display_data"
    },
    {
     "data": {
      "application/vnd.jupyter.widget-view+json": {
       "model_id": "",
       "version_major": 2,
       "version_minor": 0
      },
      "text/plain": [
       "  0%|          | 0/44 [00:00<?, ?it/s]"
      ]
     },
     "metadata": {},
     "output_type": "display_data"
    },
    {
     "data": {
      "application/vnd.jupyter.widget-view+json": {
       "model_id": "",
       "version_major": 2,
       "version_minor": 0
      },
      "text/plain": [
       "  0%|          | 0/24 [00:00<?, ?it/s]"
      ]
     },
     "metadata": {},
     "output_type": "display_data"
    },
    {
     "data": {
      "application/vnd.jupyter.widget-view+json": {
       "model_id": "",
       "version_major": 2,
       "version_minor": 0
      },
      "text/plain": [
       "  0%|          | 0/3 [00:00<?, ?it/s]"
      ]
     },
     "metadata": {},
     "output_type": "display_data"
    },
    {
     "data": {
      "application/vnd.jupyter.widget-view+json": {
       "model_id": "a43e7c7811f2496e846efd0a01aed6c5",
       "version_major": 2,
       "version_minor": 0
      },
      "text/plain": [
       "  0%|          | 0/3 [00:00<?, ?it/s]"
      ]
     },
     "metadata": {},
     "output_type": "display_data"
    },
    {
     "data": {
      "application/vnd.jupyter.widget-view+json": {
       "model_id": "",
       "version_major": 2,
       "version_minor": 0
      },
      "text/plain": [
       "  0%|          | 0/28 [00:00<?, ?it/s]"
      ]
     },
     "metadata": {},
     "output_type": "display_data"
    },
    {
     "data": {
      "application/vnd.jupyter.widget-view+json": {
       "model_id": "",
       "version_major": 2,
       "version_minor": 0
      },
      "text/plain": [
       "  0%|          | 0/215 [00:00<?, ?it/s]"
      ]
     },
     "metadata": {},
     "output_type": "display_data"
    },
    {
     "data": {
      "application/vnd.jupyter.widget-view+json": {
       "model_id": "",
       "version_major": 2,
       "version_minor": 0
      },
      "text/plain": [
       "  0%|          | 0/16 [00:00<?, ?it/s]"
      ]
     },
     "metadata": {},
     "output_type": "display_data"
    }
   ],
   "source": [
    "# get_title_link_date 함수를 사용해서 섹터별 데이터 프레임 생성\n",
    "df_semiconductor = get_title_link_date(dict_semiconductor)\n",
    "\n",
    "df_electric_car_battery = get_title_link_date(dict_electric_car_battery)\n",
    "\n",
    "df_petrochemistry = get_title_link_date(dict_petrochemistry)\n",
    "\n",
    "df_shipbuilding_shiping = get_title_link_date(dict_shipbuilding_shiping)\n",
    "\n",
    "df_steel = get_title_link_date(dict_steel)"
   ]
  },
  {
   "cell_type": "code",
   "execution_count": 5,
   "id": "9b4e9a92",
   "metadata": {},
   "outputs": [
    {
     "data": {
      "text/html": [
       "<div>\n",
       "<style scoped>\n",
       "    .dataframe tbody tr th:only-of-type {\n",
       "        vertical-align: middle;\n",
       "    }\n",
       "\n",
       "    .dataframe tbody tr th {\n",
       "        vertical-align: top;\n",
       "    }\n",
       "\n",
       "    .dataframe thead th {\n",
       "        text-align: right;\n",
       "    }\n",
       "</style>\n",
       "<table border=\"1\" class=\"dataframe\">\n",
       "  <thead>\n",
       "    <tr style=\"text-align: right;\">\n",
       "      <th></th>\n",
       "      <th>Stock_Item</th>\n",
       "      <th>Title</th>\n",
       "      <th>Link</th>\n",
       "      <th>Date</th>\n",
       "    </tr>\n",
       "  </thead>\n",
       "  <tbody>\n",
       "    <tr>\n",
       "      <th>0</th>\n",
       "      <td>삼성전자</td>\n",
       "      <td>[유안타證 주간추천주]삼성전자·두산·POSCO홀딩스</td>\n",
       "      <td>https://finance.naver.com/item/news_read.naver...</td>\n",
       "      <td>2023-06-04</td>\n",
       "    </tr>\n",
       "    <tr>\n",
       "      <th>1</th>\n",
       "      <td>삼성전자</td>\n",
       "      <td>“5만원짜리 17만원에 샀어요” 삼성 ‘이 제품’ 뭐길래 못 사서 난리...</td>\n",
       "      <td>https://finance.naver.com/item/news_read.naver...</td>\n",
       "      <td>2023-06-03</td>\n",
       "    </tr>\n",
       "    <tr>\n",
       "      <th>2</th>\n",
       "      <td>삼성전자</td>\n",
       "      <td>이러다 현대차도 제칠라...‘베트남의 삼성’이 아메리칸 드림 꿈 꿔보지...</td>\n",
       "      <td>https://finance.naver.com/item/news_read.naver...</td>\n",
       "      <td>2023-06-03</td>\n",
       "    </tr>\n",
       "    <tr>\n",
       "      <th>3</th>\n",
       "      <td>삼성전자</td>\n",
       "      <td>“6월 삼성전자·카카오 뜬다”...반도체·인터넷 업종 강세 전망</td>\n",
       "      <td>https://finance.naver.com/item/news_read.naver...</td>\n",
       "      <td>2023-06-03</td>\n",
       "    </tr>\n",
       "    <tr>\n",
       "      <th>4</th>\n",
       "      <td>삼성전자</td>\n",
       "      <td>“이래도 애플페이 써야 돼?” 수수료 중국 5배 폭리…오히려 무료 결단...</td>\n",
       "      <td>https://finance.naver.com/item/news_read.naver...</td>\n",
       "      <td>2023-06-03</td>\n",
       "    </tr>\n",
       "    <tr>\n",
       "      <th>...</th>\n",
       "      <td>...</td>\n",
       "      <td>...</td>\n",
       "      <td>...</td>\n",
       "      <td>...</td>\n",
       "    </tr>\n",
       "    <tr>\n",
       "      <th>13359</th>\n",
       "      <td>SK하이닉스</td>\n",
       "      <td>\"연말 대목 효과 없었다\"…SK하이닉스 이어 삼성까지 적자 예고</td>\n",
       "      <td>https://finance.naver.com/item/news_read.naver...</td>\n",
       "      <td>2022-12-29</td>\n",
       "    </tr>\n",
       "    <tr>\n",
       "      <th>13360</th>\n",
       "      <td>SK하이닉스</td>\n",
       "      <td>삼성전자, 폐장일 5만6000원 붕괴…하이닉스 신저가</td>\n",
       "      <td>https://finance.naver.com/item/news_read.naver...</td>\n",
       "      <td>2022-12-29</td>\n",
       "    </tr>\n",
       "    <tr>\n",
       "      <th>13361</th>\n",
       "      <td>SK하이닉스</td>\n",
       "      <td>[특징주] 올해 마지막 거래일에 삼성전자·SK하이닉스 1%대 하락세…미...</td>\n",
       "      <td>https://finance.naver.com/item/news_read.naver...</td>\n",
       "      <td>2022-12-29</td>\n",
       "    </tr>\n",
       "    <tr>\n",
       "      <th>13362</th>\n",
       "      <td>SK하이닉스</td>\n",
       "      <td>SK하이닉스, 4분기 적자 전망에...연일 '52주 신저가'</td>\n",
       "      <td>https://finance.naver.com/item/news_read.naver...</td>\n",
       "      <td>2022-12-29</td>\n",
       "    </tr>\n",
       "    <tr>\n",
       "      <th>13363</th>\n",
       "      <td>SK하이닉스</td>\n",
       "      <td>SK하이닉스 이어 삼성도 적자 예고…극심한 반도체 한파</td>\n",
       "      <td>https://finance.naver.com/item/news_read.naver...</td>\n",
       "      <td>2022-12-29</td>\n",
       "    </tr>\n",
       "  </tbody>\n",
       "</table>\n",
       "<p>13364 rows × 4 columns</p>\n",
       "</div>"
      ],
      "text/plain": [
       "      Stock_Item                                       Title   \n",
       "0           삼성전자                [유안타證 주간추천주]삼성전자·두산·POSCO홀딩스  \\\n",
       "1           삼성전자  “5만원짜리 17만원에 샀어요” 삼성 ‘이 제품’ 뭐길래 못 사서 난리...   \n",
       "2           삼성전자  이러다 현대차도 제칠라...‘베트남의 삼성’이 아메리칸 드림 꿈 꿔보지...   \n",
       "3           삼성전자         “6월 삼성전자·카카오 뜬다”...반도체·인터넷 업종 강세 전망   \n",
       "4           삼성전자  “이래도 애플페이 써야 돼?” 수수료 중국 5배 폭리…오히려 무료 결단...   \n",
       "...          ...                                         ...   \n",
       "13359     SK하이닉스         \"연말 대목 효과 없었다\"…SK하이닉스 이어 삼성까지 적자 예고   \n",
       "13360     SK하이닉스               삼성전자, 폐장일 5만6000원 붕괴…하이닉스 신저가   \n",
       "13361     SK하이닉스  [특징주] 올해 마지막 거래일에 삼성전자·SK하이닉스 1%대 하락세…미...   \n",
       "13362     SK하이닉스           SK하이닉스, 4분기 적자 전망에...연일 '52주 신저가'   \n",
       "13363     SK하이닉스              SK하이닉스 이어 삼성도 적자 예고…극심한 반도체 한파   \n",
       "\n",
       "                                                    Link        Date  \n",
       "0      https://finance.naver.com/item/news_read.naver...  2023-06-04  \n",
       "1      https://finance.naver.com/item/news_read.naver...  2023-06-03  \n",
       "2      https://finance.naver.com/item/news_read.naver...  2023-06-03  \n",
       "3      https://finance.naver.com/item/news_read.naver...  2023-06-03  \n",
       "4      https://finance.naver.com/item/news_read.naver...  2023-06-03  \n",
       "...                                                  ...         ...  \n",
       "13359  https://finance.naver.com/item/news_read.naver...  2022-12-29  \n",
       "13360  https://finance.naver.com/item/news_read.naver...  2022-12-29  \n",
       "13361  https://finance.naver.com/item/news_read.naver...  2022-12-29  \n",
       "13362  https://finance.naver.com/item/news_read.naver...  2022-12-29  \n",
       "13363  https://finance.naver.com/item/news_read.naver...  2022-12-29  \n",
       "\n",
       "[13364 rows x 4 columns]"
      ]
     },
     "metadata": {},
     "output_type": "display_data"
    },
    {
     "data": {
      "text/html": [
       "<div>\n",
       "<style scoped>\n",
       "    .dataframe tbody tr th:only-of-type {\n",
       "        vertical-align: middle;\n",
       "    }\n",
       "\n",
       "    .dataframe tbody tr th {\n",
       "        vertical-align: top;\n",
       "    }\n",
       "\n",
       "    .dataframe thead th {\n",
       "        text-align: right;\n",
       "    }\n",
       "</style>\n",
       "<table border=\"1\" class=\"dataframe\">\n",
       "  <thead>\n",
       "    <tr style=\"text-align: right;\">\n",
       "      <th></th>\n",
       "      <th>Stock_Item</th>\n",
       "      <th>Title</th>\n",
       "      <th>Link</th>\n",
       "      <th>Date</th>\n",
       "    </tr>\n",
       "  </thead>\n",
       "  <tbody>\n",
       "    <tr>\n",
       "      <th>0</th>\n",
       "      <td>현대차</td>\n",
       "      <td>이러다 현대차도 제칠라...‘베트남의 삼성’이 아메리칸 드림 꿈 꿔보지...</td>\n",
       "      <td>https://finance.naver.com/item/news_read.naver...</td>\n",
       "      <td>2023-06-03</td>\n",
       "    </tr>\n",
       "    <tr>\n",
       "      <th>1</th>\n",
       "      <td>현대차</td>\n",
       "      <td>美서 돈 덜쓰고 더 많이 판 현대차…\"제품력 개선, 펀더멘털 달라졌다\"</td>\n",
       "      <td>https://finance.naver.com/item/news_read.naver...</td>\n",
       "      <td>2023-06-03</td>\n",
       "    </tr>\n",
       "    <tr>\n",
       "      <th>2</th>\n",
       "      <td>현대차</td>\n",
       "      <td>“중고차 시장에선 내가 잘나가”…현대 아반떼·미니 컨트리맨 주목</td>\n",
       "      <td>https://finance.naver.com/item/news_read.naver...</td>\n",
       "      <td>2023-06-03</td>\n",
       "    </tr>\n",
       "    <tr>\n",
       "      <th>3</th>\n",
       "      <td>현대차</td>\n",
       "      <td>현대차 노조, \"40년 근속자에 금메달 달라\" 外[금주의 산업계 이슈]</td>\n",
       "      <td>https://finance.naver.com/item/news_read.naver...</td>\n",
       "      <td>2023-06-03</td>\n",
       "    </tr>\n",
       "    <tr>\n",
       "      <th>4</th>\n",
       "      <td>현대차</td>\n",
       "      <td>현대차는 ‘세단’·기아는 ‘SUV’…1~5월 완성차 효자는?</td>\n",
       "      <td>https://finance.naver.com/item/news_read.naver...</td>\n",
       "      <td>2023-06-03</td>\n",
       "    </tr>\n",
       "    <tr>\n",
       "      <th>...</th>\n",
       "      <td>...</td>\n",
       "      <td>...</td>\n",
       "      <td>...</td>\n",
       "      <td>...</td>\n",
       "    </tr>\n",
       "    <tr>\n",
       "      <th>11238</th>\n",
       "      <td>LG에너지솔루션</td>\n",
       "      <td>LG엔솔, 4Q 실적 컨센서스 하회 '숨고르기'-한국</td>\n",
       "      <td>https://finance.naver.com/item/news_read.naver...</td>\n",
       "      <td>2023-01-02</td>\n",
       "    </tr>\n",
       "    <tr>\n",
       "      <th>11239</th>\n",
       "      <td>LG에너지솔루션</td>\n",
       "      <td>제2의 LG엔솔 나올까…“새해 IPO 침체 지속 전망”</td>\n",
       "      <td>https://finance.naver.com/item/news_read.naver...</td>\n",
       "      <td>2023-01-02</td>\n",
       "    </tr>\n",
       "    <tr>\n",
       "      <th>11240</th>\n",
       "      <td>LG에너지솔루션</td>\n",
       "      <td>코스피 기관 순매도 1위 'LG에너지솔루션'</td>\n",
       "      <td>https://finance.naver.com/item/news_read.naver...</td>\n",
       "      <td>2023-01-01</td>\n",
       "    </tr>\n",
       "    <tr>\n",
       "      <th>11241</th>\n",
       "      <td>LG에너지솔루션</td>\n",
       "      <td>'단군 이래 최대어' LG엔솔에 가려진 IPO 시장 그림자</td>\n",
       "      <td>https://finance.naver.com/item/news_read.naver...</td>\n",
       "      <td>2022-12-30</td>\n",
       "    </tr>\n",
       "    <tr>\n",
       "      <th>11242</th>\n",
       "      <td>LG에너지솔루션</td>\n",
       "      <td>LG엔솔, 美공장 임금 리스크 우려…노조, '시급 4만원' 요구</td>\n",
       "      <td>https://finance.naver.com/item/news_read.naver...</td>\n",
       "      <td>2022-12-30</td>\n",
       "    </tr>\n",
       "  </tbody>\n",
       "</table>\n",
       "<p>11243 rows × 4 columns</p>\n",
       "</div>"
      ],
      "text/plain": [
       "      Stock_Item                                       Title   \n",
       "0            현대차  이러다 현대차도 제칠라...‘베트남의 삼성’이 아메리칸 드림 꿈 꿔보지...  \\\n",
       "1            현대차     美서 돈 덜쓰고 더 많이 판 현대차…\"제품력 개선, 펀더멘털 달라졌다\"   \n",
       "2            현대차         “중고차 시장에선 내가 잘나가”…현대 아반떼·미니 컨트리맨 주목   \n",
       "3            현대차     현대차 노조, \"40년 근속자에 금메달 달라\" 外[금주의 산업계 이슈]   \n",
       "4            현대차           현대차는 ‘세단’·기아는 ‘SUV’…1~5월 완성차 효자는?   \n",
       "...          ...                                         ...   \n",
       "11238   LG에너지솔루션               LG엔솔, 4Q 실적 컨센서스 하회 '숨고르기'-한국   \n",
       "11239   LG에너지솔루션              제2의 LG엔솔 나올까…“새해 IPO 침체 지속 전망”   \n",
       "11240   LG에너지솔루션                    코스피 기관 순매도 1위 'LG에너지솔루션'   \n",
       "11241   LG에너지솔루션            '단군 이래 최대어' LG엔솔에 가려진 IPO 시장 그림자   \n",
       "11242   LG에너지솔루션         LG엔솔, 美공장 임금 리스크 우려…노조, '시급 4만원' 요구   \n",
       "\n",
       "                                                    Link        Date  \n",
       "0      https://finance.naver.com/item/news_read.naver...  2023-06-03  \n",
       "1      https://finance.naver.com/item/news_read.naver...  2023-06-03  \n",
       "2      https://finance.naver.com/item/news_read.naver...  2023-06-03  \n",
       "3      https://finance.naver.com/item/news_read.naver...  2023-06-03  \n",
       "4      https://finance.naver.com/item/news_read.naver...  2023-06-03  \n",
       "...                                                  ...         ...  \n",
       "11238  https://finance.naver.com/item/news_read.naver...  2023-01-02  \n",
       "11239  https://finance.naver.com/item/news_read.naver...  2023-01-02  \n",
       "11240  https://finance.naver.com/item/news_read.naver...  2023-01-01  \n",
       "11241  https://finance.naver.com/item/news_read.naver...  2022-12-30  \n",
       "11242  https://finance.naver.com/item/news_read.naver...  2022-12-30  \n",
       "\n",
       "[11243 rows x 4 columns]"
      ]
     },
     "metadata": {},
     "output_type": "display_data"
    },
    {
     "data": {
      "text/html": [
       "<div>\n",
       "<style scoped>\n",
       "    .dataframe tbody tr th:only-of-type {\n",
       "        vertical-align: middle;\n",
       "    }\n",
       "\n",
       "    .dataframe tbody tr th {\n",
       "        vertical-align: top;\n",
       "    }\n",
       "\n",
       "    .dataframe thead th {\n",
       "        text-align: right;\n",
       "    }\n",
       "</style>\n",
       "<table border=\"1\" class=\"dataframe\">\n",
       "  <thead>\n",
       "    <tr style=\"text-align: right;\">\n",
       "      <th></th>\n",
       "      <th>Stock_Item</th>\n",
       "      <th>Title</th>\n",
       "      <th>Link</th>\n",
       "      <th>Date</th>\n",
       "    </tr>\n",
       "  </thead>\n",
       "  <tbody>\n",
       "    <tr>\n",
       "      <th>0</th>\n",
       "      <td>LG화학</td>\n",
       "      <td>LG화학, 450만 달러 투자한 기술 반환…항암제 역량 집중 시동</td>\n",
       "      <td>https://finance.naver.com/item/news_read.naver...</td>\n",
       "      <td>2023-06-02</td>\n",
       "    </tr>\n",
       "    <tr>\n",
       "      <th>1</th>\n",
       "      <td>LG화학</td>\n",
       "      <td>신학철 LG화학 부회장, 일본서 ‘인재 확보’</td>\n",
       "      <td>https://finance.naver.com/item/news_read.naver...</td>\n",
       "      <td>2023-06-02</td>\n",
       "    </tr>\n",
       "    <tr>\n",
       "      <th>2</th>\n",
       "      <td>LG화학</td>\n",
       "      <td>신학철 “LG화학 일원 돼 달라” 日 인재들에 러브콜</td>\n",
       "      <td>https://finance.naver.com/item/news_read.naver...</td>\n",
       "      <td>2023-06-02</td>\n",
       "    </tr>\n",
       "    <tr>\n",
       "      <th>3</th>\n",
       "      <td>LG화학</td>\n",
       "      <td>\"LG화학에서 꿈 펼치라\"…신학철 부회장, 日 인재에 '손짓'</td>\n",
       "      <td>https://finance.naver.com/item/news_read.naver...</td>\n",
       "      <td>2023-06-02</td>\n",
       "    </tr>\n",
       "    <tr>\n",
       "      <th>4</th>\n",
       "      <td>LG화학</td>\n",
       "      <td>\"인재 확보\" 신학철 LG화학 부회장, 일본까지 날아갔다</td>\n",
       "      <td>https://finance.naver.com/item/news_read.naver...</td>\n",
       "      <td>2023-06-02</td>\n",
       "    </tr>\n",
       "    <tr>\n",
       "      <th>...</th>\n",
       "      <td>...</td>\n",
       "      <td>...</td>\n",
       "      <td>...</td>\n",
       "      <td>...</td>\n",
       "    </tr>\n",
       "    <tr>\n",
       "      <th>4385</th>\n",
       "      <td>S-OIL</td>\n",
       "      <td>류열 에쓰오일 사장, ‘CES 2023’ 현장 참관…“전략 고민 기회...</td>\n",
       "      <td>https://finance.naver.com/item/news_read.naver...</td>\n",
       "      <td>2023-01-06</td>\n",
       "    </tr>\n",
       "    <tr>\n",
       "      <th>4386</th>\n",
       "      <td>S-OIL</td>\n",
       "      <td>류열 S-OIL 사장, CES 참관…신사업 분야 투자기업 격려</td>\n",
       "      <td>https://finance.naver.com/item/news_read.naver...</td>\n",
       "      <td>2023-01-06</td>\n",
       "    </tr>\n",
       "    <tr>\n",
       "      <th>4387</th>\n",
       "      <td>S-OIL</td>\n",
       "      <td>원유 정제 마진 바닥 쳤다…에쓰오일 추천[베스트 애널리스트 추천 종목]</td>\n",
       "      <td>https://finance.naver.com/item/news_read.naver...</td>\n",
       "      <td>2023-01-04</td>\n",
       "    </tr>\n",
       "    <tr>\n",
       "      <th>4388</th>\n",
       "      <td>S-OIL</td>\n",
       "      <td>울산시, ‘현대차·에쓰오일’ 전담팀 만들어 투자 기업 지원</td>\n",
       "      <td>https://finance.naver.com/item/news_read.naver...</td>\n",
       "      <td>2022-12-30</td>\n",
       "    </tr>\n",
       "    <tr>\n",
       "      <th>4389</th>\n",
       "      <td>S-OIL</td>\n",
       "      <td>S-Oil, 대한유화와 1조6360억 규모 납사 공급계약</td>\n",
       "      <td>https://finance.naver.com/item/news_read.naver...</td>\n",
       "      <td>2022-12-29</td>\n",
       "    </tr>\n",
       "  </tbody>\n",
       "</table>\n",
       "<p>4390 rows × 4 columns</p>\n",
       "</div>"
      ],
      "text/plain": [
       "     Stock_Item                                      Title   \n",
       "0          LG화학       LG화학, 450만 달러 투자한 기술 반환…항암제 역량 집중 시동  \\\n",
       "1          LG화학                  신학철 LG화학 부회장, 일본서 ‘인재 확보’   \n",
       "2          LG화학              신학철 “LG화학 일원 돼 달라” 日 인재들에 러브콜   \n",
       "3          LG화학         \"LG화학에서 꿈 펼치라\"…신학철 부회장, 日 인재에 '손짓'   \n",
       "4          LG화학            \"인재 확보\" 신학철 LG화학 부회장, 일본까지 날아갔다   \n",
       "...         ...                                        ...   \n",
       "4385      S-OIL  류열 에쓰오일 사장, ‘CES 2023’ 현장 참관…“전략 고민 기회...   \n",
       "4386      S-OIL         류열 S-OIL 사장, CES 참관…신사업 분야 투자기업 격려   \n",
       "4387      S-OIL    원유 정제 마진 바닥 쳤다…에쓰오일 추천[베스트 애널리스트 추천 종목]   \n",
       "4388      S-OIL           울산시, ‘현대차·에쓰오일’ 전담팀 만들어 투자 기업 지원   \n",
       "4389      S-OIL            S-Oil, 대한유화와 1조6360억 규모 납사 공급계약   \n",
       "\n",
       "                                                   Link        Date  \n",
       "0     https://finance.naver.com/item/news_read.naver...  2023-06-02  \n",
       "1     https://finance.naver.com/item/news_read.naver...  2023-06-02  \n",
       "2     https://finance.naver.com/item/news_read.naver...  2023-06-02  \n",
       "3     https://finance.naver.com/item/news_read.naver...  2023-06-02  \n",
       "4     https://finance.naver.com/item/news_read.naver...  2023-06-02  \n",
       "...                                                 ...         ...  \n",
       "4385  https://finance.naver.com/item/news_read.naver...  2023-01-06  \n",
       "4386  https://finance.naver.com/item/news_read.naver...  2023-01-06  \n",
       "4387  https://finance.naver.com/item/news_read.naver...  2023-01-04  \n",
       "4388  https://finance.naver.com/item/news_read.naver...  2022-12-30  \n",
       "4389  https://finance.naver.com/item/news_read.naver...  2022-12-29  \n",
       "\n",
       "[4390 rows x 4 columns]"
      ]
     },
     "metadata": {},
     "output_type": "display_data"
    },
    {
     "data": {
      "text/html": [
       "<div>\n",
       "<style scoped>\n",
       "    .dataframe tbody tr th:only-of-type {\n",
       "        vertical-align: middle;\n",
       "    }\n",
       "\n",
       "    .dataframe tbody tr th {\n",
       "        vertical-align: top;\n",
       "    }\n",
       "\n",
       "    .dataframe thead th {\n",
       "        text-align: right;\n",
       "    }\n",
       "</style>\n",
       "<table border=\"1\" class=\"dataframe\">\n",
       "  <thead>\n",
       "    <tr style=\"text-align: right;\">\n",
       "      <th></th>\n",
       "      <th>Stock_Item</th>\n",
       "      <th>Title</th>\n",
       "      <th>Link</th>\n",
       "      <th>Date</th>\n",
       "    </tr>\n",
       "  </thead>\n",
       "  <tbody>\n",
       "    <tr>\n",
       "      <th>0</th>\n",
       "      <td>HD현대중공업</td>\n",
       "      <td>[유가증권시장 공시] HD현대중공업 / HSD엔진 / 한신공영 등</td>\n",
       "      <td>https://finance.naver.com/item/news_read.naver...</td>\n",
       "      <td>2023-06-01</td>\n",
       "    </tr>\n",
       "    <tr>\n",
       "      <th>1</th>\n",
       "      <td>HD현대중공업</td>\n",
       "      <td>HD현대중공업, 1조2392억 규모 컨테이너선 5척 수주[주목 e공시]</td>\n",
       "      <td>https://finance.naver.com/item/news_read.naver...</td>\n",
       "      <td>2023-06-01</td>\n",
       "    </tr>\n",
       "    <tr>\n",
       "      <th>2</th>\n",
       "      <td>HD현대중공업</td>\n",
       "      <td>[공시] HD현대중공업, 1조2400억 규모 컨테이너선 공사 수주</td>\n",
       "      <td>https://finance.naver.com/item/news_read.naver...</td>\n",
       "      <td>2023-06-01</td>\n",
       "    </tr>\n",
       "    <tr>\n",
       "      <th>3</th>\n",
       "      <td>HD현대중공업</td>\n",
       "      <td>HD현대중공업, 1조2392억원 규모 컨테이너선 공사 수주</td>\n",
       "      <td>https://finance.naver.com/item/news_read.naver...</td>\n",
       "      <td>2023-06-01</td>\n",
       "    </tr>\n",
       "    <tr>\n",
       "      <th>4</th>\n",
       "      <td>HD현대중공업</td>\n",
       "      <td>HD현대중공업, 1조2392억 규모 컨테이너선 5척 수주 계약</td>\n",
       "      <td>https://finance.naver.com/item/news_read.naver...</td>\n",
       "      <td>2023-06-01</td>\n",
       "    </tr>\n",
       "    <tr>\n",
       "      <th>...</th>\n",
       "      <td>...</td>\n",
       "      <td>...</td>\n",
       "      <td>...</td>\n",
       "      <td>...</td>\n",
       "    </tr>\n",
       "    <tr>\n",
       "      <th>4136</th>\n",
       "      <td>팬오션</td>\n",
       "      <td>팬오션, 한진칼 지분 5% 취득… “단순 투자 목적”</td>\n",
       "      <td>https://finance.naver.com/item/news_read.naver...</td>\n",
       "      <td>2022-12-06</td>\n",
       "    </tr>\n",
       "    <tr>\n",
       "      <th>4137</th>\n",
       "      <td>팬오션</td>\n",
       "      <td>팬오션, 한진칼 지분 5% 취득</td>\n",
       "      <td>https://finance.naver.com/item/news_read.naver...</td>\n",
       "      <td>2022-12-06</td>\n",
       "    </tr>\n",
       "    <tr>\n",
       "      <th>4138</th>\n",
       "      <td>팬오션</td>\n",
       "      <td>하림지주 \"팬오션, 한진칼 지분 5.8% 취득…1259억원 규모\"</td>\n",
       "      <td>https://finance.naver.com/item/news_read.naver...</td>\n",
       "      <td>2022-12-06</td>\n",
       "    </tr>\n",
       "    <tr>\n",
       "      <th>4139</th>\n",
       "      <td>팬오션</td>\n",
       "      <td>팬오션, 호반건설 보유 한진칼 지분 매입</td>\n",
       "      <td>https://finance.naver.com/item/news_read.naver...</td>\n",
       "      <td>2022-12-06</td>\n",
       "    </tr>\n",
       "    <tr>\n",
       "      <th>4140</th>\n",
       "      <td>팬오션</td>\n",
       "      <td>하림그룹 해운 계열사 팬오션, 한진칼 지분 5.8% 취득…“단순 투자...</td>\n",
       "      <td>https://finance.naver.com/item/news_read.naver...</td>\n",
       "      <td>2022-12-06</td>\n",
       "    </tr>\n",
       "  </tbody>\n",
       "</table>\n",
       "<p>4141 rows × 4 columns</p>\n",
       "</div>"
      ],
      "text/plain": [
       "     Stock_Item                                      Title   \n",
       "0       HD현대중공업       [유가증권시장 공시] HD현대중공업 / HSD엔진 / 한신공영 등  \\\n",
       "1       HD현대중공업    HD현대중공업, 1조2392억 규모 컨테이너선 5척 수주[주목 e공시]   \n",
       "2       HD현대중공업       [공시] HD현대중공업, 1조2400억 규모 컨테이너선 공사 수주   \n",
       "3       HD현대중공업           HD현대중공업, 1조2392억원 규모 컨테이너선 공사 수주   \n",
       "4       HD현대중공업         HD현대중공업, 1조2392억 규모 컨테이너선 5척 수주 계약   \n",
       "...         ...                                        ...   \n",
       "4136        팬오션              팬오션, 한진칼 지분 5% 취득… “단순 투자 목적”   \n",
       "4137        팬오션                          팬오션, 한진칼 지분 5% 취득   \n",
       "4138        팬오션       하림지주 \"팬오션, 한진칼 지분 5.8% 취득…1259억원 규모\"   \n",
       "4139        팬오션                     팬오션, 호반건설 보유 한진칼 지분 매입   \n",
       "4140        팬오션  하림그룹 해운 계열사 팬오션, 한진칼 지분 5.8% 취득…“단순 투자...   \n",
       "\n",
       "                                                   Link        Date  \n",
       "0     https://finance.naver.com/item/news_read.naver...  2023-06-01  \n",
       "1     https://finance.naver.com/item/news_read.naver...  2023-06-01  \n",
       "2     https://finance.naver.com/item/news_read.naver...  2023-06-01  \n",
       "3     https://finance.naver.com/item/news_read.naver...  2023-06-01  \n",
       "4     https://finance.naver.com/item/news_read.naver...  2023-06-01  \n",
       "...                                                 ...         ...  \n",
       "4136  https://finance.naver.com/item/news_read.naver...  2022-12-06  \n",
       "4137  https://finance.naver.com/item/news_read.naver...  2022-12-06  \n",
       "4138  https://finance.naver.com/item/news_read.naver...  2022-12-06  \n",
       "4139  https://finance.naver.com/item/news_read.naver...  2022-12-06  \n",
       "4140  https://finance.naver.com/item/news_read.naver...  2022-12-06  \n",
       "\n",
       "[4141 rows x 4 columns]"
      ]
     },
     "metadata": {},
     "output_type": "display_data"
    },
    {
     "data": {
      "text/html": [
       "<div>\n",
       "<style scoped>\n",
       "    .dataframe tbody tr th:only-of-type {\n",
       "        vertical-align: middle;\n",
       "    }\n",
       "\n",
       "    .dataframe tbody tr th {\n",
       "        vertical-align: top;\n",
       "    }\n",
       "\n",
       "    .dataframe thead th {\n",
       "        text-align: right;\n",
       "    }\n",
       "</style>\n",
       "<table border=\"1\" class=\"dataframe\">\n",
       "  <thead>\n",
       "    <tr style=\"text-align: right;\">\n",
       "      <th></th>\n",
       "      <th>Stock_Item</th>\n",
       "      <th>Title</th>\n",
       "      <th>Link</th>\n",
       "      <th>Date</th>\n",
       "    </tr>\n",
       "  </thead>\n",
       "  <tbody>\n",
       "    <tr>\n",
       "      <th>0</th>\n",
       "      <td>현대제철</td>\n",
       "      <td>현대제철, 창립 70주년 걸음기부 캠페인…1억원 기금 조성 목표</td>\n",
       "      <td>https://finance.naver.com/item/news_read.naver...</td>\n",
       "      <td>2023-06-02</td>\n",
       "    </tr>\n",
       "    <tr>\n",
       "      <th>1</th>\n",
       "      <td>현대제철</td>\n",
       "      <td>현대제철, 아동 이동체어 걸음 기부 캠페인 펼쳐</td>\n",
       "      <td>https://finance.naver.com/item/news_read.naver...</td>\n",
       "      <td>2023-06-02</td>\n",
       "    </tr>\n",
       "    <tr>\n",
       "      <th>2</th>\n",
       "      <td>현대제철</td>\n",
       "      <td>'하루 5000보의 나눔'..창립 70년 현대제철 걸음기부 캠페인</td>\n",
       "      <td>https://finance.naver.com/item/news_read.naver...</td>\n",
       "      <td>2023-06-02</td>\n",
       "    </tr>\n",
       "    <tr>\n",
       "      <th>3</th>\n",
       "      <td>현대제철</td>\n",
       "      <td>현대제철, '걸음 기부' 문샷 챌린지 진행…1억원 기부 목표</td>\n",
       "      <td>https://finance.naver.com/item/news_read.naver...</td>\n",
       "      <td>2023-06-02</td>\n",
       "    </tr>\n",
       "    <tr>\n",
       "      <th>4</th>\n",
       "      <td>현대제철</td>\n",
       "      <td>현대제철, ‘걸음 기부 캠페인’ 문샷 챌린지 진행…1억원 기부 목표</td>\n",
       "      <td>https://finance.naver.com/item/news_read.naver...</td>\n",
       "      <td>2023-06-02</td>\n",
       "    </tr>\n",
       "    <tr>\n",
       "      <th>...</th>\n",
       "      <td>...</td>\n",
       "      <td>...</td>\n",
       "      <td>...</td>\n",
       "      <td>...</td>\n",
       "    </tr>\n",
       "    <tr>\n",
       "      <th>6796</th>\n",
       "      <td>고려아연</td>\n",
       "      <td>울산 고려아연 바둑팀 창단…KB국민은행 바둑리그 참가</td>\n",
       "      <td>https://finance.naver.com/item/news_read.naver...</td>\n",
       "      <td>2022-12-22</td>\n",
       "    </tr>\n",
       "    <tr>\n",
       "      <th>6797</th>\n",
       "      <td>고려아연</td>\n",
       "      <td>고려아연, 사랑의 열매 ‘희망나눔캠페인 300억 클럽’ 가입</td>\n",
       "      <td>https://finance.naver.com/item/news_read.naver...</td>\n",
       "      <td>2022-12-20</td>\n",
       "    </tr>\n",
       "    <tr>\n",
       "      <th>6798</th>\n",
       "      <td>고려아연</td>\n",
       "      <td>고려아연, 사랑의열매에 이웃돕기 성금 30억원 기탁</td>\n",
       "      <td>https://finance.naver.com/item/news_read.naver...</td>\n",
       "      <td>2022-12-20</td>\n",
       "    </tr>\n",
       "    <tr>\n",
       "      <th>6799</th>\n",
       "      <td>고려아연</td>\n",
       "      <td>고려아연, 연말 맞아 ‘이웃사랑 성금’ 30억 기탁</td>\n",
       "      <td>https://finance.naver.com/item/news_read.naver...</td>\n",
       "      <td>2022-12-20</td>\n",
       "    </tr>\n",
       "    <tr>\n",
       "      <th>6800</th>\n",
       "      <td>고려아연</td>\n",
       "      <td>고려아연, 이웃사랑 성금 30억원 기탁</td>\n",
       "      <td>https://finance.naver.com/item/news_read.naver...</td>\n",
       "      <td>2022-12-20</td>\n",
       "    </tr>\n",
       "  </tbody>\n",
       "</table>\n",
       "<p>6801 rows × 4 columns</p>\n",
       "</div>"
      ],
      "text/plain": [
       "     Stock_Item                                  Title   \n",
       "0          현대제철    현대제철, 창립 70주년 걸음기부 캠페인…1억원 기금 조성 목표  \\\n",
       "1          현대제철             현대제철, 아동 이동체어 걸음 기부 캠페인 펼쳐   \n",
       "2          현대제철   '하루 5000보의 나눔'..창립 70년 현대제철 걸음기부 캠페인   \n",
       "3          현대제철      현대제철, '걸음 기부' 문샷 챌린지 진행…1억원 기부 목표   \n",
       "4          현대제철  현대제철, ‘걸음 기부 캠페인’ 문샷 챌린지 진행…1억원 기부 목표   \n",
       "...         ...                                    ...   \n",
       "6796       고려아연          울산 고려아연 바둑팀 창단…KB국민은행 바둑리그 참가   \n",
       "6797       고려아연      고려아연, 사랑의 열매 ‘희망나눔캠페인 300억 클럽’ 가입   \n",
       "6798       고려아연           고려아연, 사랑의열매에 이웃돕기 성금 30억원 기탁   \n",
       "6799       고려아연           고려아연, 연말 맞아 ‘이웃사랑 성금’ 30억 기탁   \n",
       "6800       고려아연                  고려아연, 이웃사랑 성금 30억원 기탁   \n",
       "\n",
       "                                                   Link        Date  \n",
       "0     https://finance.naver.com/item/news_read.naver...  2023-06-02  \n",
       "1     https://finance.naver.com/item/news_read.naver...  2023-06-02  \n",
       "2     https://finance.naver.com/item/news_read.naver...  2023-06-02  \n",
       "3     https://finance.naver.com/item/news_read.naver...  2023-06-02  \n",
       "4     https://finance.naver.com/item/news_read.naver...  2023-06-02  \n",
       "...                                                 ...         ...  \n",
       "6796  https://finance.naver.com/item/news_read.naver...  2022-12-22  \n",
       "6797  https://finance.naver.com/item/news_read.naver...  2022-12-20  \n",
       "6798  https://finance.naver.com/item/news_read.naver...  2022-12-20  \n",
       "6799  https://finance.naver.com/item/news_read.naver...  2022-12-20  \n",
       "6800  https://finance.naver.com/item/news_read.naver...  2022-12-20  \n",
       "\n",
       "[6801 rows x 4 columns]"
      ]
     },
     "metadata": {},
     "output_type": "display_data"
    }
   ],
   "source": [
    "display(df_semiconductor, df_electric_car_battery, df_petrochemistry, df_shipbuilding_shiping, df_steel)"
   ]
  },
  {
   "cell_type": "code",
   "execution_count": null,
   "id": "ca61672a",
   "metadata": {},
   "outputs": [],
   "source": [
    "# 수집한 데이터 csv로 저장\n",
    "df_semiconductor.to_csv('Title_Link_Date/df_semiconductor.csv', index=False)\n",
    "df_electric_car_battery.to_csv('Title_Link_Date/df_electric_car_battery.csv', index=False)\n",
    "df_petrochemistry.to_csv('Title_Link_Date/df_petrochemistry.csv', index=False)\n",
    "df_shipbuilding_shiping.to_csv('Title_Link_Date/df_shipbuilding_shiping.csv', index=False)\n",
    "df_steel.to_csv('Title_Link_Date/df_steel.csv', index=False)"
   ]
  }
 ],
 "metadata": {
  "kernelspec": {
   "display_name": "Python 3 (ipykernel)",
   "language": "python",
   "name": "python3"
  },
  "language_info": {
   "codemirror_mode": {
    "name": "ipython",
    "version": 3
   },
   "file_extension": ".py",
   "mimetype": "text/x-python",
   "name": "python",
   "nbconvert_exporter": "python",
   "pygments_lexer": "ipython3",
   "version": "3.8.16"
  }
 },
 "nbformat": 4,
 "nbformat_minor": 5
}
