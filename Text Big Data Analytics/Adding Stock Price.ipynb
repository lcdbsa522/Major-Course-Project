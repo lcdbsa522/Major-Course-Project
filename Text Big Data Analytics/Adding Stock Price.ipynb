{
 "cells": [
  {
   "cell_type": "code",
   "execution_count": 1,
   "id": "621e14f2",
   "metadata": {},
   "outputs": [],
   "source": [
    "# 주식 데이터 관련 모듈\n",
    "import pandas_datareader as pdr\n",
    "import time\n",
    "\n",
    "# 기본적인 데이터 핸들링\n",
    "import pandas as pd\n",
    "import numpy as np"
   ]
  },
  {
   "cell_type": "code",
   "execution_count": 2,
   "id": "62d833fe",
   "metadata": {
    "scrolled": true
   },
   "outputs": [],
   "source": [
    "# 데이터프레임 정렬을 위한 리스트 생성\n",
    "align = ['Stock_Item', 'Title', 'Link', 'Content', 'Date']\n",
    "\n",
    "# 데이터 로드\n",
    "df_semiconductor = pd.read_csv('Title_Link_Date/df_semiconductor_content.csv')[align]\n",
    "df_electric_car_battery = pd.read_csv('Title_Link_Date/df_electric_car_battery_content.csv')[align]\n",
    "df_petrochemistry = pd.read_csv('Title_Link_Date/df_petrochemistry_content.csv')[align]\n",
    "df_shipbuilding_shiping = pd.read_csv('Title_Link_Date/df_shipbuilding_shiping_content.csv')[align]\n",
    "df_steel = pd.read_csv('Title_Link_Date/df_steel_content.csv')[align]"
   ]
  },
  {
   "cell_type": "code",
   "execution_count": 3,
   "id": "e5d09391",
   "metadata": {},
   "outputs": [],
   "source": [
    "# 기업과 종목코드만 들어있는 딕셔너리 생성\n",
    "code_dict = {'삼성전자' : '005930', 'SK하이닉스' : '000660', '현대차' : '005380', 'LG에너지솔루션' : '373220',\n",
    "             'LG화학' : '051910', 'SK이노베이션' : '096770', '롯데케미칼' : '011170', 'S-OIL' : '010950',\n",
    "             'HD현대중공업' : '329180', '대우조선해양' : '042660', '현대미포조선' : '010620', '삼성중공업' : '010140',\n",
    "             'HD한국조선해양' : '009540', 'HMM' : '011200', '팬오션' : '028670', \n",
    "             '현대제철' : '004020', 'POSCO홀딩스' : '005490', '고려아연' : '010130'}\n",
    "# 주가 정보를 받아올 시작일과 종료일 설정\n",
    "start_date = '2022-12-25' # 공휴일등을 생각해서 넉넉하게 수집\n",
    "end_date = '2023-06-05' "
   ]
  },
  {
   "cell_type": "code",
   "execution_count": 4,
   "id": "a840d365",
   "metadata": {},
   "outputs": [],
   "source": [
    "# 종목별 주가 정보가 담긴 딕셔너리 생성\n",
    "stock_pirce = {}\n",
    "for stock, code in code_dict.items():\n",
    "    # 종목의 일별 종가 가져오기\n",
    "    df = pdr.DataReader(code, 'naver', start=start_date, end=end_date)[['Close']].reset_index()\n",
    "    # 전일 종가열 생성\n",
    "    price_df = pd.concat([df.iloc[1:,:].reset_index(drop=True,),pd.DataFrame({'Pr_Close':df.iloc[:-1,1]})],axis=1)\n",
    "    # 현종가 -전일 종가 열 생성\n",
    "    price_df['Diff'] = price_df['Close'].astype('int') - price_df['Pr_Close'].astype('int')\n",
    "    stock_pirce[stock] = price_df"
   ]
  },
  {
   "cell_type": "code",
   "execution_count": 5,
   "id": "151b53d0",
   "metadata": {},
   "outputs": [],
   "source": [
    "weekend_to_friday = {}\n",
    "holiday_list = ['2022-12-30','2023-01-23','2023-01-24','2023-03-01','2023-05-01','2023-05-05','2023-05-29'] #휴장일 리스트 선언\n",
    "\n",
    "# 휴장일이거나 주말인 경우에는 가장 최근의 개장일로 변환해서 새로운 열 생성\n",
    "for date in pd.date_range(start=start_date, end=end_date):\n",
    "    transe_date = date\n",
    "    # 날짜가 휴장일이 아닐 때까지 전일로 변환\n",
    "    while transe_date.strftime('%Y-%m-%d') in holiday_list:\n",
    "        transe_date = transe_date - pd.Timedelta(days=1)\n",
    "    # 날짜가 주말이면 전 주 금요일로 변환\n",
    "    if transe_date.dayofweek >= 5:\n",
    "        last_friday = transe_date - pd.Timedelta(days=transe_date.dayofweek - 4)\n",
    "        #변환 후에 금요일이라면 전일로 추가 변환\n",
    "        while last_friday.strftime('%Y-%m-%d') in holiday_list:\n",
    "            last_friday = last_friday - pd.Timedelta(days=1)\n",
    "    # 최종적으로 변환된 날짜를 딕셔너리에 추가\n",
    "    weekend_to_friday[date.strftime('%Y-%m-%d')] = last_friday.strftime('%Y-%m-%d')"
   ]
  },
  {
   "cell_type": "code",
   "execution_count": 1,
   "id": "1ccdbf9b",
   "metadata": {},
   "outputs": [],
   "source": [
    "# 데이터 프레임에 주가정보 추가 함수\n",
    "def add_stock_price(df_info, stock_price):\n",
    "    # 변경된 휴장일 값을 원본 데이터에 추가\n",
    "    df_info['Adjusted_Date'] = df_info['Date'].apply(lambda x: weekend_to_friday.get(x) if x in weekend_to_friday else x)\n",
    "    df_info['Adjusted_Date'] = pd.to_datetime(df_info['Adjusted_Date'])\n",
    "    df_list=[]\n",
    "    # 종목별로 휴장일 변환을 반영한 날을 기준으로 데이터 merge\n",
    "    for stock in stock_price.keys():\n",
    "        df_stock = df_info.loc[df_info.Stock_Item == stock]\n",
    "        df_add = pd.merge(df_stock, stock_pirce[stock], left_on='Adjusted_Date', right_on='Date', how='left', suffixes=('', '_drop'))\n",
    "        df_add = df_add.drop(columns=['Date_drop'])  # drop the 'Date' column from the right dataframe\n",
    "        df_list.append(df_add)\n",
    "        \n",
    "    final_df = pd.concat(df_list)\n",
    "    return final_df"
   ]
  },
  {
   "cell_type": "code",
   "execution_count": 7,
   "id": "08236cb4",
   "metadata": {},
   "outputs": [],
   "source": [
    "# add_stock_price 함수를 사용해 주가 정보 추가한 뒤 결측값 제거\n",
    "semiconductor = add_stock_price(df_semiconductor, stock_pirce).dropna()\n",
    "electric_car_battery = add_stock_price(df_electric_car_battery, stock_pirce).dropna()\n",
    "petrochemistry = add_stock_price(df_petrochemistry, stock_pirce).dropna()\n",
    "shipbuilding_shiping = add_stock_price(df_shipbuilding_shiping, stock_pirce).dropna()\n",
    "steel = add_stock_price(df_steel, stock_pirce).dropna()"
   ]
  },
  {
   "cell_type": "code",
   "execution_count": 8,
   "id": "b6b8e27f",
   "metadata": {},
   "outputs": [],
   "source": [
    "# 수집된 데이터 저장\n",
    "semiconductor.to_csv('Full_data/semiconductor_stock.csv', index=False)\n",
    "electric_car_battery.to_csv('Full_data/electric_car_battery_stock.csv', index=False)\n",
    "petrochemistry.to_csv('Full_data/petrochemistry_stock.csv', index=False)\n",
    "shipbuilding_shiping.to_csv('Full_data/shipbuilding_shiping_stock.csv', index=False)\n",
    "steel.to_csv('Full_data/steel_stock.csv', index=False)"
   ]
  }
 ],
 "metadata": {
  "kernelspec": {
   "display_name": "Python 3 (ipykernel)",
   "language": "python",
   "name": "python3"
  },
  "language_info": {
   "codemirror_mode": {
    "name": "ipython",
    "version": 3
   },
   "file_extension": ".py",
   "mimetype": "text/x-python",
   "name": "python",
   "nbconvert_exporter": "python",
   "pygments_lexer": "ipython3",
   "version": "3.8.16"
  }
 },
 "nbformat": 4,
 "nbformat_minor": 5
}
